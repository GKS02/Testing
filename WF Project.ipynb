{
 "cells": [
  {
   "cell_type": "code",
   "execution_count": 1,
   "metadata": {},
   "outputs": [],
   "source": [
    "import numpy as np\n",
    "import pandas as pd"
   ]
  },
  {
   "cell_type": "code",
   "execution_count": 2,
   "metadata": {},
   "outputs": [
    {
     "data": {
      "text/html": [
       "<div>\n",
       "<style scoped>\n",
       "    .dataframe tbody tr th:only-of-type {\n",
       "        vertical-align: middle;\n",
       "    }\n",
       "\n",
       "    .dataframe tbody tr th {\n",
       "        vertical-align: top;\n",
       "    }\n",
       "\n",
       "    .dataframe thead th {\n",
       "        text-align: right;\n",
       "    }\n",
       "</style>\n",
       "<table border=\"1\" class=\"dataframe\">\n",
       "  <thead>\n",
       "    <tr style=\"text-align: right;\">\n",
       "      <th></th>\n",
       "      <th>Weather condition</th>\n",
       "      <th>Priority Code (Inversely propo.)</th>\n",
       "      <th>Score</th>\n",
       "      <th>Priority score(directly pro.)</th>\n",
       "      <th>Random distance (0 to 50km)</th>\n",
       "      <th>Combined Score</th>\n",
       "    </tr>\n",
       "  </thead>\n",
       "  <tbody>\n",
       "    <tr>\n",
       "      <th>0</th>\n",
       "      <td>Moderate or heavy rain with thunder</td>\n",
       "      <td>1276</td>\n",
       "      <td>1.085669</td>\n",
       "      <td>0.921091</td>\n",
       "      <td>25.721522</td>\n",
       "      <td>0.035810</td>\n",
       "    </tr>\n",
       "    <tr>\n",
       "      <th>1</th>\n",
       "      <td>Heavy freezing drizzle</td>\n",
       "      <td>1171</td>\n",
       "      <td>0.996331</td>\n",
       "      <td>1.003683</td>\n",
       "      <td>27.073236</td>\n",
       "      <td>0.037073</td>\n",
       "    </tr>\n",
       "    <tr>\n",
       "      <th>2</th>\n",
       "      <td>Mist</td>\n",
       "      <td>1030</td>\n",
       "      <td>0.876363</td>\n",
       "      <td>1.141080</td>\n",
       "      <td>45.093962</td>\n",
       "      <td>0.025304</td>\n",
       "    </tr>\n",
       "    <tr>\n",
       "      <th>3</th>\n",
       "      <td>Light sleet</td>\n",
       "      <td>1204</td>\n",
       "      <td>1.024408</td>\n",
       "      <td>0.976173</td>\n",
       "      <td>12.570120</td>\n",
       "      <td>0.077658</td>\n",
       "    </tr>\n",
       "    <tr>\n",
       "      <th>4</th>\n",
       "      <td>Overcast</td>\n",
       "      <td>1009</td>\n",
       "      <td>0.858495</td>\n",
       "      <td>1.164829</td>\n",
       "      <td>28.352466</td>\n",
       "      <td>0.041084</td>\n",
       "    </tr>\n",
       "  </tbody>\n",
       "</table>\n",
       "</div>"
      ],
      "text/plain": [
       "                     Weather condition  Priority Code (Inversely propo.)  \\\n",
       "0  Moderate or heavy rain with thunder                              1276   \n",
       "1               Heavy freezing drizzle                              1171   \n",
       "2                                 Mist                              1030   \n",
       "3                          Light sleet                              1204   \n",
       "4                             Overcast                              1009   \n",
       "\n",
       "      Score  Priority score(directly pro.)  Random distance (0 to 50km)  \\\n",
       "0  1.085669                       0.921091                    25.721522   \n",
       "1  0.996331                       1.003683                    27.073236   \n",
       "2  0.876363                       1.141080                    45.093962   \n",
       "3  1.024408                       0.976173                    12.570120   \n",
       "4  0.858495                       1.164829                    28.352466   \n",
       "\n",
       "   Combined Score  \n",
       "0        0.035810  \n",
       "1        0.037073  \n",
       "2        0.025304  \n",
       "3        0.077658  \n",
       "4        0.041084  "
      ]
     },
     "execution_count": 2,
     "metadata": {},
     "output_type": "execute_result"
    }
   ],
   "source": [
    "df = pd.read_csv('Dataset.csv')\n",
    "df.head()"
   ]
  },
  {
   "cell_type": "code",
   "execution_count": 3,
   "metadata": {},
   "outputs": [
    {
     "name": "stdout",
     "output_type": "stream",
     "text": [
      "      Priority score(directly pro.)  Random distance (0 to 50km)\n",
      "0                          0.921091                    25.721522\n",
      "1                          1.003683                    27.073236\n",
      "2                          1.141080                    45.093962\n",
      "3                          0.976173                    12.570120\n",
      "4                          1.164829                    28.352466\n",
      "...                             ...                          ...\n",
      "4795                       0.993502                    30.019257\n",
      "4796                       1.024684                     6.236146\n",
      "4797                       1.168303                     3.357702\n",
      "4798                       0.945545                    46.961410\n",
      "4799                       1.141080                     7.818488\n",
      "\n",
      "[4800 rows x 2 columns]\n"
     ]
    }
   ],
   "source": [
    "x=df.iloc[:,3:5]\n",
    "y=df.iloc[:,-1]\n",
    "\n",
    "print(x)\n"
   ]
  },
  {
   "cell_type": "code",
   "execution_count": 4,
   "metadata": {},
   "outputs": [
    {
     "name": "stdout",
     "output_type": "stream",
     "text": [
      "0       0.035810\n",
      "1       0.037073\n",
      "2       0.025304\n",
      "3       0.077658\n",
      "4       0.041084\n",
      "          ...   \n",
      "4795    0.033095\n",
      "4796    0.164314\n",
      "4797    0.347947\n",
      "4798    0.020135\n",
      "4799    0.145946\n",
      "Name: Combined Score, Length: 4800, dtype: float64\n"
     ]
    }
   ],
   "source": [
    "print(y)"
   ]
  },
  {
   "cell_type": "code",
   "execution_count": 47,
   "metadata": {},
   "outputs": [],
   "source": [
    " from sklearn.model_selection import train_test_split\n",
    "x_train,x_test,y_train,y_test = train_test_split(x,y,test_size=0.30,random_state=42)"
   ]
  },
  {
   "cell_type": "code",
   "execution_count": 48,
   "metadata": {},
   "outputs": [
    {
     "data": {
      "text/html": [
       "<div>\n",
       "<style scoped>\n",
       "    .dataframe tbody tr th:only-of-type {\n",
       "        vertical-align: middle;\n",
       "    }\n",
       "\n",
       "    .dataframe tbody tr th {\n",
       "        vertical-align: top;\n",
       "    }\n",
       "\n",
       "    .dataframe thead th {\n",
       "        text-align: right;\n",
       "    }\n",
       "</style>\n",
       "<table border=\"1\" class=\"dataframe\">\n",
       "  <thead>\n",
       "    <tr style=\"text-align: right;\">\n",
       "      <th></th>\n",
       "      <th>Priority score(directly pro.)</th>\n",
       "      <th>Random distance (0 to 50km)</th>\n",
       "    </tr>\n",
       "  </thead>\n",
       "  <tbody>\n",
       "    <tr>\n",
       "      <th>3813</th>\n",
       "      <td>0.941003</td>\n",
       "      <td>21.380453</td>\n",
       "    </tr>\n",
       "    <tr>\n",
       "      <th>2354</th>\n",
       "      <td>1.081244</td>\n",
       "      <td>10.572372</td>\n",
       "    </tr>\n",
       "    <tr>\n",
       "      <th>2629</th>\n",
       "      <td>0.996028</td>\n",
       "      <td>10.261492</td>\n",
       "    </tr>\n",
       "    <tr>\n",
       "      <th>2117</th>\n",
       "      <td>0.934271</td>\n",
       "      <td>29.176108</td>\n",
       "    </tr>\n",
       "    <tr>\n",
       "      <th>3139</th>\n",
       "      <td>0.996028</td>\n",
       "      <td>43.696991</td>\n",
       "    </tr>\n",
       "    <tr>\n",
       "      <th>...</th>\n",
       "      <td>...</td>\n",
       "      <td>...</td>\n",
       "    </tr>\n",
       "    <tr>\n",
       "      <th>4426</th>\n",
       "      <td>1.099450</td>\n",
       "      <td>23.808916</td>\n",
       "    </tr>\n",
       "    <tr>\n",
       "      <th>466</th>\n",
       "      <td>0.968930</td>\n",
       "      <td>33.512938</td>\n",
       "    </tr>\n",
       "    <tr>\n",
       "      <th>3092</th>\n",
       "      <td>1.099450</td>\n",
       "      <td>34.994161</td>\n",
       "    </tr>\n",
       "    <tr>\n",
       "      <th>3772</th>\n",
       "      <td>0.929836</td>\n",
       "      <td>8.270582</td>\n",
       "    </tr>\n",
       "    <tr>\n",
       "      <th>860</th>\n",
       "      <td>1.035518</td>\n",
       "      <td>12.300756</td>\n",
       "    </tr>\n",
       "  </tbody>\n",
       "</table>\n",
       "<p>3360 rows × 2 columns</p>\n",
       "</div>"
      ],
      "text/plain": [
       "      Priority score(directly pro.)  Random distance (0 to 50km)\n",
       "3813                       0.941003                    21.380453\n",
       "2354                       1.081244                    10.572372\n",
       "2629                       0.996028                    10.261492\n",
       "2117                       0.934271                    29.176108\n",
       "3139                       0.996028                    43.696991\n",
       "...                             ...                          ...\n",
       "4426                       1.099450                    23.808916\n",
       "466                        0.968930                    33.512938\n",
       "3092                       1.099450                    34.994161\n",
       "3772                       0.929836                     8.270582\n",
       "860                        1.035518                    12.300756\n",
       "\n",
       "[3360 rows x 2 columns]"
      ]
     },
     "execution_count": 48,
     "metadata": {},
     "output_type": "execute_result"
    }
   ],
   "source": [
    "x_train"
   ]
  },
  {
   "cell_type": "code",
   "execution_count": 49,
   "metadata": {},
   "outputs": [
    {
     "data": {
      "text/plain": [
       "3813    0.044012\n",
       "2354    0.102271\n",
       "2629    0.097065\n",
       "2117    0.032022\n",
       "3139    0.022794\n",
       "          ...   \n",
       "4426    0.046178\n",
       "466     0.028912\n",
       "3092    0.031418\n",
       "3772    0.112427\n",
       "860     0.084183\n",
       "Name: Combined Score, Length: 3360, dtype: float64"
      ]
     },
     "execution_count": 49,
     "metadata": {},
     "output_type": "execute_result"
    }
   ],
   "source": [
    "y_train"
   ]
  },
  {
   "cell_type": "code",
   "execution_count": 50,
   "metadata": {},
   "outputs": [],
   "source": [
    "from sklearn.linear_model import LinearRegression\n",
    "regression = LinearRegression()"
   ]
  },
  {
   "cell_type": "code",
   "execution_count": 51,
   "metadata": {},
   "outputs": [
    {
     "data": {
      "text/html": [
       "<style>#sk-container-id-8 {color: black;background-color: white;}#sk-container-id-8 pre{padding: 0;}#sk-container-id-8 div.sk-toggleable {background-color: white;}#sk-container-id-8 label.sk-toggleable__label {cursor: pointer;display: block;width: 100%;margin-bottom: 0;padding: 0.3em;box-sizing: border-box;text-align: center;}#sk-container-id-8 label.sk-toggleable__label-arrow:before {content: \"▸\";float: left;margin-right: 0.25em;color: #696969;}#sk-container-id-8 label.sk-toggleable__label-arrow:hover:before {color: black;}#sk-container-id-8 div.sk-estimator:hover label.sk-toggleable__label-arrow:before {color: black;}#sk-container-id-8 div.sk-toggleable__content {max-height: 0;max-width: 0;overflow: hidden;text-align: left;background-color: #f0f8ff;}#sk-container-id-8 div.sk-toggleable__content pre {margin: 0.2em;color: black;border-radius: 0.25em;background-color: #f0f8ff;}#sk-container-id-8 input.sk-toggleable__control:checked~div.sk-toggleable__content {max-height: 200px;max-width: 100%;overflow: auto;}#sk-container-id-8 input.sk-toggleable__control:checked~label.sk-toggleable__label-arrow:before {content: \"▾\";}#sk-container-id-8 div.sk-estimator input.sk-toggleable__control:checked~label.sk-toggleable__label {background-color: #d4ebff;}#sk-container-id-8 div.sk-label input.sk-toggleable__control:checked~label.sk-toggleable__label {background-color: #d4ebff;}#sk-container-id-8 input.sk-hidden--visually {border: 0;clip: rect(1px 1px 1px 1px);clip: rect(1px, 1px, 1px, 1px);height: 1px;margin: -1px;overflow: hidden;padding: 0;position: absolute;width: 1px;}#sk-container-id-8 div.sk-estimator {font-family: monospace;background-color: #f0f8ff;border: 1px dotted black;border-radius: 0.25em;box-sizing: border-box;margin-bottom: 0.5em;}#sk-container-id-8 div.sk-estimator:hover {background-color: #d4ebff;}#sk-container-id-8 div.sk-parallel-item::after {content: \"\";width: 100%;border-bottom: 1px solid gray;flex-grow: 1;}#sk-container-id-8 div.sk-label:hover label.sk-toggleable__label {background-color: #d4ebff;}#sk-container-id-8 div.sk-serial::before {content: \"\";position: absolute;border-left: 1px solid gray;box-sizing: border-box;top: 0;bottom: 0;left: 50%;z-index: 0;}#sk-container-id-8 div.sk-serial {display: flex;flex-direction: column;align-items: center;background-color: white;padding-right: 0.2em;padding-left: 0.2em;position: relative;}#sk-container-id-8 div.sk-item {position: relative;z-index: 1;}#sk-container-id-8 div.sk-parallel {display: flex;align-items: stretch;justify-content: center;background-color: white;position: relative;}#sk-container-id-8 div.sk-item::before, #sk-container-id-8 div.sk-parallel-item::before {content: \"\";position: absolute;border-left: 1px solid gray;box-sizing: border-box;top: 0;bottom: 0;left: 50%;z-index: -1;}#sk-container-id-8 div.sk-parallel-item {display: flex;flex-direction: column;z-index: 1;position: relative;background-color: white;}#sk-container-id-8 div.sk-parallel-item:first-child::after {align-self: flex-end;width: 50%;}#sk-container-id-8 div.sk-parallel-item:last-child::after {align-self: flex-start;width: 50%;}#sk-container-id-8 div.sk-parallel-item:only-child::after {width: 0;}#sk-container-id-8 div.sk-dashed-wrapped {border: 1px dashed gray;margin: 0 0.4em 0.5em 0.4em;box-sizing: border-box;padding-bottom: 0.4em;background-color: white;}#sk-container-id-8 div.sk-label label {font-family: monospace;font-weight: bold;display: inline-block;line-height: 1.2em;}#sk-container-id-8 div.sk-label-container {text-align: center;}#sk-container-id-8 div.sk-container {/* jupyter's `normalize.less` sets `[hidden] { display: none; }` but bootstrap.min.css set `[hidden] { display: none !important; }` so we also need the `!important` here to be able to override the default hidden behavior on the sphinx rendered scikit-learn.org. See: https://github.com/scikit-learn/scikit-learn/issues/21755 */display: inline-block !important;position: relative;}#sk-container-id-8 div.sk-text-repr-fallback {display: none;}</style><div id=\"sk-container-id-8\" class=\"sk-top-container\"><div class=\"sk-text-repr-fallback\"><pre>LinearRegression()</pre><b>In a Jupyter environment, please rerun this cell to show the HTML representation or trust the notebook. <br />On GitHub, the HTML representation is unable to render, please try loading this page with nbviewer.org.</b></div><div class=\"sk-container\" hidden><div class=\"sk-item\"><div class=\"sk-estimator sk-toggleable\"><input class=\"sk-toggleable__control sk-hidden--visually\" id=\"sk-estimator-id-8\" type=\"checkbox\" checked><label for=\"sk-estimator-id-8\" class=\"sk-toggleable__label sk-toggleable__label-arrow\">LinearRegression</label><div class=\"sk-toggleable__content\"><pre>LinearRegression()</pre></div></div></div></div></div>"
      ],
      "text/plain": [
       "LinearRegression()"
      ]
     },
     "execution_count": 51,
     "metadata": {},
     "output_type": "execute_result"
    }
   ],
   "source": [
    "regression"
   ]
  },
  {
   "cell_type": "code",
   "execution_count": 52,
   "metadata": {},
   "outputs": [
    {
     "data": {
      "text/html": [
       "<style>#sk-container-id-9 {color: black;background-color: white;}#sk-container-id-9 pre{padding: 0;}#sk-container-id-9 div.sk-toggleable {background-color: white;}#sk-container-id-9 label.sk-toggleable__label {cursor: pointer;display: block;width: 100%;margin-bottom: 0;padding: 0.3em;box-sizing: border-box;text-align: center;}#sk-container-id-9 label.sk-toggleable__label-arrow:before {content: \"▸\";float: left;margin-right: 0.25em;color: #696969;}#sk-container-id-9 label.sk-toggleable__label-arrow:hover:before {color: black;}#sk-container-id-9 div.sk-estimator:hover label.sk-toggleable__label-arrow:before {color: black;}#sk-container-id-9 div.sk-toggleable__content {max-height: 0;max-width: 0;overflow: hidden;text-align: left;background-color: #f0f8ff;}#sk-container-id-9 div.sk-toggleable__content pre {margin: 0.2em;color: black;border-radius: 0.25em;background-color: #f0f8ff;}#sk-container-id-9 input.sk-toggleable__control:checked~div.sk-toggleable__content {max-height: 200px;max-width: 100%;overflow: auto;}#sk-container-id-9 input.sk-toggleable__control:checked~label.sk-toggleable__label-arrow:before {content: \"▾\";}#sk-container-id-9 div.sk-estimator input.sk-toggleable__control:checked~label.sk-toggleable__label {background-color: #d4ebff;}#sk-container-id-9 div.sk-label input.sk-toggleable__control:checked~label.sk-toggleable__label {background-color: #d4ebff;}#sk-container-id-9 input.sk-hidden--visually {border: 0;clip: rect(1px 1px 1px 1px);clip: rect(1px, 1px, 1px, 1px);height: 1px;margin: -1px;overflow: hidden;padding: 0;position: absolute;width: 1px;}#sk-container-id-9 div.sk-estimator {font-family: monospace;background-color: #f0f8ff;border: 1px dotted black;border-radius: 0.25em;box-sizing: border-box;margin-bottom: 0.5em;}#sk-container-id-9 div.sk-estimator:hover {background-color: #d4ebff;}#sk-container-id-9 div.sk-parallel-item::after {content: \"\";width: 100%;border-bottom: 1px solid gray;flex-grow: 1;}#sk-container-id-9 div.sk-label:hover label.sk-toggleable__label {background-color: #d4ebff;}#sk-container-id-9 div.sk-serial::before {content: \"\";position: absolute;border-left: 1px solid gray;box-sizing: border-box;top: 0;bottom: 0;left: 50%;z-index: 0;}#sk-container-id-9 div.sk-serial {display: flex;flex-direction: column;align-items: center;background-color: white;padding-right: 0.2em;padding-left: 0.2em;position: relative;}#sk-container-id-9 div.sk-item {position: relative;z-index: 1;}#sk-container-id-9 div.sk-parallel {display: flex;align-items: stretch;justify-content: center;background-color: white;position: relative;}#sk-container-id-9 div.sk-item::before, #sk-container-id-9 div.sk-parallel-item::before {content: \"\";position: absolute;border-left: 1px solid gray;box-sizing: border-box;top: 0;bottom: 0;left: 50%;z-index: -1;}#sk-container-id-9 div.sk-parallel-item {display: flex;flex-direction: column;z-index: 1;position: relative;background-color: white;}#sk-container-id-9 div.sk-parallel-item:first-child::after {align-self: flex-end;width: 50%;}#sk-container-id-9 div.sk-parallel-item:last-child::after {align-self: flex-start;width: 50%;}#sk-container-id-9 div.sk-parallel-item:only-child::after {width: 0;}#sk-container-id-9 div.sk-dashed-wrapped {border: 1px dashed gray;margin: 0 0.4em 0.5em 0.4em;box-sizing: border-box;padding-bottom: 0.4em;background-color: white;}#sk-container-id-9 div.sk-label label {font-family: monospace;font-weight: bold;display: inline-block;line-height: 1.2em;}#sk-container-id-9 div.sk-label-container {text-align: center;}#sk-container-id-9 div.sk-container {/* jupyter's `normalize.less` sets `[hidden] { display: none; }` but bootstrap.min.css set `[hidden] { display: none !important; }` so we also need the `!important` here to be able to override the default hidden behavior on the sphinx rendered scikit-learn.org. See: https://github.com/scikit-learn/scikit-learn/issues/21755 */display: inline-block !important;position: relative;}#sk-container-id-9 div.sk-text-repr-fallback {display: none;}</style><div id=\"sk-container-id-9\" class=\"sk-top-container\"><div class=\"sk-text-repr-fallback\"><pre>LinearRegression()</pre><b>In a Jupyter environment, please rerun this cell to show the HTML representation or trust the notebook. <br />On GitHub, the HTML representation is unable to render, please try loading this page with nbviewer.org.</b></div><div class=\"sk-container\" hidden><div class=\"sk-item\"><div class=\"sk-estimator sk-toggleable\"><input class=\"sk-toggleable__control sk-hidden--visually\" id=\"sk-estimator-id-9\" type=\"checkbox\" checked><label for=\"sk-estimator-id-9\" class=\"sk-toggleable__label sk-toggleable__label-arrow\">LinearRegression</label><div class=\"sk-toggleable__content\"><pre>LinearRegression()</pre></div></div></div></div></div>"
      ],
      "text/plain": [
       "LinearRegression()"
      ]
     },
     "execution_count": 52,
     "metadata": {},
     "output_type": "execute_result"
    }
   ],
   "source": [
    "#Training\n",
    "regression.fit(x_train,y_train)"
   ]
  },
  {
   "cell_type": "code",
   "execution_count": 53,
   "metadata": {},
   "outputs": [],
   "source": [
    "y_pred = regression.predict(x_test)"
   ]
  },
  {
   "cell_type": "code",
   "execution_count": 62,
   "metadata": {},
   "outputs": [
    {
     "data": {
      "text/plain": [
       "0.03268095192266196"
      ]
     },
     "execution_count": 62,
     "metadata": {},
     "output_type": "execute_result"
    }
   ],
   "source": [
    "from sklearn.metrics import r2_score,mean_squared_error\n",
    "r2_score(y_test,y_pred)"
   ]
  },
  {
   "cell_type": "code",
   "execution_count": 63,
   "metadata": {},
   "outputs": [
    {
     "data": {
      "text/plain": [
       "1.998871815198878"
      ]
     },
     "execution_count": 63,
     "metadata": {},
     "output_type": "execute_result"
    }
   ],
   "source": [
    "mean_squared_error(y_test, y_pred)"
   ]
  },
  {
   "cell_type": "code",
   "execution_count": 55,
   "metadata": {},
   "outputs": [],
   "source": [
    "from sklearn.tree import DecisionTreeRegressor\n",
    "regressor = DecisionTreeRegressor(random_state=0)"
   ]
  },
  {
   "cell_type": "code",
   "execution_count": 56,
   "metadata": {},
   "outputs": [
    {
     "data": {
      "text/html": [
       "<style>#sk-container-id-10 {color: black;background-color: white;}#sk-container-id-10 pre{padding: 0;}#sk-container-id-10 div.sk-toggleable {background-color: white;}#sk-container-id-10 label.sk-toggleable__label {cursor: pointer;display: block;width: 100%;margin-bottom: 0;padding: 0.3em;box-sizing: border-box;text-align: center;}#sk-container-id-10 label.sk-toggleable__label-arrow:before {content: \"▸\";float: left;margin-right: 0.25em;color: #696969;}#sk-container-id-10 label.sk-toggleable__label-arrow:hover:before {color: black;}#sk-container-id-10 div.sk-estimator:hover label.sk-toggleable__label-arrow:before {color: black;}#sk-container-id-10 div.sk-toggleable__content {max-height: 0;max-width: 0;overflow: hidden;text-align: left;background-color: #f0f8ff;}#sk-container-id-10 div.sk-toggleable__content pre {margin: 0.2em;color: black;border-radius: 0.25em;background-color: #f0f8ff;}#sk-container-id-10 input.sk-toggleable__control:checked~div.sk-toggleable__content {max-height: 200px;max-width: 100%;overflow: auto;}#sk-container-id-10 input.sk-toggleable__control:checked~label.sk-toggleable__label-arrow:before {content: \"▾\";}#sk-container-id-10 div.sk-estimator input.sk-toggleable__control:checked~label.sk-toggleable__label {background-color: #d4ebff;}#sk-container-id-10 div.sk-label input.sk-toggleable__control:checked~label.sk-toggleable__label {background-color: #d4ebff;}#sk-container-id-10 input.sk-hidden--visually {border: 0;clip: rect(1px 1px 1px 1px);clip: rect(1px, 1px, 1px, 1px);height: 1px;margin: -1px;overflow: hidden;padding: 0;position: absolute;width: 1px;}#sk-container-id-10 div.sk-estimator {font-family: monospace;background-color: #f0f8ff;border: 1px dotted black;border-radius: 0.25em;box-sizing: border-box;margin-bottom: 0.5em;}#sk-container-id-10 div.sk-estimator:hover {background-color: #d4ebff;}#sk-container-id-10 div.sk-parallel-item::after {content: \"\";width: 100%;border-bottom: 1px solid gray;flex-grow: 1;}#sk-container-id-10 div.sk-label:hover label.sk-toggleable__label {background-color: #d4ebff;}#sk-container-id-10 div.sk-serial::before {content: \"\";position: absolute;border-left: 1px solid gray;box-sizing: border-box;top: 0;bottom: 0;left: 50%;z-index: 0;}#sk-container-id-10 div.sk-serial {display: flex;flex-direction: column;align-items: center;background-color: white;padding-right: 0.2em;padding-left: 0.2em;position: relative;}#sk-container-id-10 div.sk-item {position: relative;z-index: 1;}#sk-container-id-10 div.sk-parallel {display: flex;align-items: stretch;justify-content: center;background-color: white;position: relative;}#sk-container-id-10 div.sk-item::before, #sk-container-id-10 div.sk-parallel-item::before {content: \"\";position: absolute;border-left: 1px solid gray;box-sizing: border-box;top: 0;bottom: 0;left: 50%;z-index: -1;}#sk-container-id-10 div.sk-parallel-item {display: flex;flex-direction: column;z-index: 1;position: relative;background-color: white;}#sk-container-id-10 div.sk-parallel-item:first-child::after {align-self: flex-end;width: 50%;}#sk-container-id-10 div.sk-parallel-item:last-child::after {align-self: flex-start;width: 50%;}#sk-container-id-10 div.sk-parallel-item:only-child::after {width: 0;}#sk-container-id-10 div.sk-dashed-wrapped {border: 1px dashed gray;margin: 0 0.4em 0.5em 0.4em;box-sizing: border-box;padding-bottom: 0.4em;background-color: white;}#sk-container-id-10 div.sk-label label {font-family: monospace;font-weight: bold;display: inline-block;line-height: 1.2em;}#sk-container-id-10 div.sk-label-container {text-align: center;}#sk-container-id-10 div.sk-container {/* jupyter's `normalize.less` sets `[hidden] { display: none; }` but bootstrap.min.css set `[hidden] { display: none !important; }` so we also need the `!important` here to be able to override the default hidden behavior on the sphinx rendered scikit-learn.org. See: https://github.com/scikit-learn/scikit-learn/issues/21755 */display: inline-block !important;position: relative;}#sk-container-id-10 div.sk-text-repr-fallback {display: none;}</style><div id=\"sk-container-id-10\" class=\"sk-top-container\"><div class=\"sk-text-repr-fallback\"><pre>DecisionTreeRegressor(random_state=0)</pre><b>In a Jupyter environment, please rerun this cell to show the HTML representation or trust the notebook. <br />On GitHub, the HTML representation is unable to render, please try loading this page with nbviewer.org.</b></div><div class=\"sk-container\" hidden><div class=\"sk-item\"><div class=\"sk-estimator sk-toggleable\"><input class=\"sk-toggleable__control sk-hidden--visually\" id=\"sk-estimator-id-10\" type=\"checkbox\" checked><label for=\"sk-estimator-id-10\" class=\"sk-toggleable__label sk-toggleable__label-arrow\">DecisionTreeRegressor</label><div class=\"sk-toggleable__content\"><pre>DecisionTreeRegressor(random_state=0)</pre></div></div></div></div></div>"
      ],
      "text/plain": [
       "DecisionTreeRegressor(random_state=0)"
      ]
     },
     "execution_count": 56,
     "metadata": {},
     "output_type": "execute_result"
    }
   ],
   "source": [
    "regressor.fit(x_train,y_train)"
   ]
  },
  {
   "cell_type": "code",
   "execution_count": 57,
   "metadata": {},
   "outputs": [],
   "source": [
    "y_pred_dt = regressor.predict(x_test)"
   ]
  },
  {
   "cell_type": "code",
   "execution_count": 58,
   "metadata": {},
   "outputs": [
    {
     "data": {
      "text/plain": [
       "0.9849118500329904"
      ]
     },
     "execution_count": 58,
     "metadata": {},
     "output_type": "execute_result"
    }
   ],
   "source": [
    "r2_score(y_test,regressor.predict(x_test))\n"
   ]
  },
  {
   "cell_type": "code",
   "execution_count": 61,
   "metadata": {},
   "outputs": [
    {
     "data": {
      "text/plain": [
       "[Text(0.08687548726611227, 0.9583333333333334, 'X[1] <= 0.051\\nsquared_error = 2.618\\nsamples = 3360\\nvalue = 0.197'),\n",
       " Text(0.004158004158004158, 0.875, 'X[0] <= 1.023\\nsquared_error = 229.982\\nsamples = 3\\nvalue = 44.836'),\n",
       " Text(0.002079002079002079, 0.7916666666666666, 'squared_error = 0.0\\nsamples = 1\\nvalue = 65.164'),\n",
       " Text(0.006237006237006237, 0.7916666666666666, 'X[0] <= 1.119\\nsquared_error = 35.049\\nsamples = 2\\nvalue = 34.672'),\n",
       " Text(0.004158004158004158, 0.7083333333333334, 'squared_error = 0.0\\nsamples = 1\\nvalue = 40.592'),\n",
       " Text(0.008316008316008316, 0.7083333333333334, 'squared_error = 0.0\\nsamples = 1\\nvalue = 28.752'),\n",
       " Text(0.1695929703742204, 0.875, 'X[1] <= 0.198\\nsquared_error = 0.632\\nsamples = 3357\\nvalue = 0.157'),\n",
       " Text(0.02182952182952183, 0.7916666666666666, 'X[1] <= 0.097\\nsquared_error = 18.461\\nsamples = 16\\nvalue = 10.025'),\n",
       " Text(0.012474012474012475, 0.7083333333333334, 'X[1] <= 0.07\\nsquared_error = 5.682\\nsamples = 6\\nvalue = 14.994'),\n",
       " Text(0.008316008316008316, 0.625, 'X[0] <= 1.153\\nsquared_error = 0.064\\nsamples = 2\\nvalue = 18.211'),\n",
       " Text(0.006237006237006237, 0.5416666666666666, 'squared_error = 0.0\\nsamples = 1\\nvalue = 17.957'),\n",
       " Text(0.010395010395010396, 0.5416666666666666, 'squared_error = 0.0\\nsamples = 1\\nvalue = 18.464'),\n",
       " Text(0.016632016632016633, 0.625, 'X[0] <= 1.153\\nsquared_error = 0.731\\nsamples = 4\\nvalue = 13.385'),\n",
       " Text(0.014553014553014554, 0.5416666666666666, 'X[0] <= 1.053\\nsquared_error = 0.178\\nsamples = 3\\nvalue = 12.939'),\n",
       " Text(0.012474012474012475, 0.4583333333333333, 'squared_error = 0.0\\nsamples = 1\\nvalue = 13.523'),\n",
       " Text(0.016632016632016633, 0.4583333333333333, 'X[1] <= 0.088\\nsquared_error = 0.011\\nsamples = 2\\nvalue = 12.647'),\n",
       " Text(0.014553014553014554, 0.375, 'squared_error = 0.0\\nsamples = 1\\nvalue = 12.754'),\n",
       " Text(0.018711018711018712, 0.375, 'squared_error = 0.0\\nsamples = 1\\nvalue = 12.541'),\n",
       " Text(0.018711018711018712, 0.5416666666666666, 'squared_error = 0.0\\nsamples = 1\\nvalue = 14.724'),\n",
       " Text(0.031185031185031187, 0.7083333333333334, 'X[1] <= 0.126\\nsquared_error = 2.43\\nsamples = 10\\nvalue = 7.044'),\n",
       " Text(0.02494802494802495, 0.625, 'X[0] <= 1.059\\nsquared_error = 0.402\\nsamples = 2\\nvalue = 9.877'),\n",
       " Text(0.02286902286902287, 0.5416666666666666, 'squared_error = 0.0\\nsamples = 1\\nvalue = 9.244'),\n",
       " Text(0.02702702702702703, 0.5416666666666666, 'squared_error = 0.0\\nsamples = 1\\nvalue = 10.511'),\n",
       " Text(0.037422037422037424, 0.625, 'X[0] <= 0.976\\nsquared_error = 0.428\\nsamples = 8\\nvalue = 6.336'),\n",
       " Text(0.031185031185031187, 0.5416666666666666, 'X[0] <= 0.935\\nsquared_error = 0.075\\nsamples = 4\\nvalue = 5.731'),\n",
       " Text(0.029106029106029108, 0.4583333333333333, 'squared_error = 0.0\\nsamples = 1\\nvalue = 6.201'),\n",
       " Text(0.033264033264033266, 0.4583333333333333, 'X[0] <= 0.956\\nsquared_error = 0.002\\nsamples = 3\\nvalue = 5.575'),\n",
       " Text(0.031185031185031187, 0.375, 'squared_error = 0.0\\nsamples = 1\\nvalue = 5.511'),\n",
       " Text(0.035343035343035345, 0.375, 'X[1] <= 0.172\\nsquared_error = 0.0\\nsamples = 2\\nvalue = 5.607'),\n",
       " Text(0.033264033264033266, 0.2916666666666667, 'squared_error = 0.0\\nsamples = 1\\nvalue = 5.608'),\n",
       " Text(0.037422037422037424, 0.2916666666666667, 'squared_error = -0.0\\nsamples = 1\\nvalue = 5.606'),\n",
       " Text(0.04365904365904366, 0.5416666666666666, 'X[1] <= 0.158\\nsquared_error = 0.05\\nsamples = 4\\nvalue = 6.94'),\n",
       " Text(0.04158004158004158, 0.4583333333333333, 'X[1] <= 0.144\\nsquared_error = 0.001\\nsamples = 3\\nvalue = 7.069'),\n",
       " Text(0.0395010395010395, 0.375, 'squared_error = 0.0\\nsamples = 1\\nvalue = 7.035'),\n",
       " Text(0.04365904365904366, 0.375, 'X[0] <= 1.076\\nsquared_error = 0.001\\nsamples = 2\\nvalue = 7.085'),\n",
       " Text(0.04158004158004158, 0.2916666666666667, 'squared_error = 0.0\\nsamples = 1\\nvalue = 7.111'),\n",
       " Text(0.04573804573804574, 0.2916666666666667, 'squared_error = 0.0\\nsamples = 1\\nvalue = 7.06'),\n",
       " Text(0.04573804573804574, 0.4583333333333333, 'squared_error = -0.0\\nsamples = 1\\nvalue = 6.554'),\n",
       " Text(0.3173564189189189, 0.7916666666666666, 'X[1] <= 0.942\\nsquared_error = 0.078\\nsamples = 3341\\nvalue = 0.109'),\n",
       " Text(0.09966216216216216, 0.7083333333333334, 'X[1] <= 0.444\\nsquared_error = 0.714\\nsamples = 50\\nvalue = 1.986'),\n",
       " Text(0.06444906444906445, 0.625, 'X[1] <= 0.3\\nsquared_error = 0.433\\nsamples = 14\\nvalue = 3.141'),\n",
       " Text(0.05405405405405406, 0.5416666666666666, 'X[1] <= 0.254\\nsquared_error = 0.03\\nsamples = 4\\nvalue = 4.09'),\n",
       " Text(0.0498960498960499, 0.4583333333333333, 'X[1] <= 0.238\\nsquared_error = 0.014\\nsamples = 2\\nvalue = 4.236'),\n",
       " Text(0.04781704781704782, 0.375, 'squared_error = 0.0\\nsamples = 1\\nvalue = 4.117'),\n",
       " Text(0.05197505197505198, 0.375, 'squared_error = 0.0\\nsamples = 1\\nvalue = 4.355'),\n",
       " Text(0.058212058212058215, 0.4583333333333333, 'X[1] <= 0.273\\nsquared_error = 0.002\\nsamples = 2\\nvalue = 3.944'),\n",
       " Text(0.056133056133056136, 0.375, 'squared_error = 0.0\\nsamples = 1\\nvalue = 3.896'),\n",
       " Text(0.060291060291060294, 0.375, 'squared_error = 0.0\\nsamples = 1\\nvalue = 3.992'),\n",
       " Text(0.07484407484407485, 0.5416666666666666, 'X[1] <= 0.356\\nsquared_error = 0.091\\nsamples = 10\\nvalue = 2.762'),\n",
       " Text(0.06860706860706861, 0.4583333333333333, 'X[0] <= 0.965\\nsquared_error = 0.024\\nsamples = 5\\nvalue = 3.024'),\n",
       " Text(0.06444906444906445, 0.375, 'X[0] <= 0.933\\nsquared_error = 0.008\\nsamples = 2\\nvalue = 2.884'),\n",
       " Text(0.062370062370062374, 0.2916666666666667, 'squared_error = 0.0\\nsamples = 1\\nvalue = 2.797'),\n",
       " Text(0.06652806652806653, 0.2916666666666667, 'squared_error = 0.0\\nsamples = 1\\nvalue = 2.971'),\n",
       " Text(0.07276507276507277, 0.375, 'X[1] <= 0.343\\nsquared_error = 0.014\\nsamples = 3\\nvalue = 3.118'),\n",
       " Text(0.07068607068607069, 0.2916666666666667, 'X[0] <= 1.04\\nsquared_error = 0.0\\nsamples = 2\\nvalue = 3.2'),\n",
       " Text(0.06860706860706861, 0.20833333333333334, 'squared_error = 0.0\\nsamples = 1\\nvalue = 3.192'),\n",
       " Text(0.07276507276507277, 0.20833333333333334, 'squared_error = 0.0\\nsamples = 1\\nvalue = 3.209'),\n",
       " Text(0.07484407484407485, 0.2916666666666667, 'squared_error = 0.0\\nsamples = 1\\nvalue = 2.952'),\n",
       " Text(0.08108108108108109, 0.4583333333333333, 'X[0] <= 0.957\\nsquared_error = 0.02\\nsamples = 5\\nvalue = 2.5'),\n",
       " Text(0.079002079002079, 0.375, 'squared_error = 0.0\\nsamples = 1\\nvalue = 2.316'),\n",
       " Text(0.08316008316008316, 0.375, 'X[1] <= 0.417\\nsquared_error = 0.015\\nsamples = 4\\nvalue = 2.546'),\n",
       " Text(0.079002079002079, 0.2916666666666667, 'X[0] <= 1.041\\nsquared_error = 0.0\\nsamples = 2\\nvalue = 2.665'),\n",
       " Text(0.07692307692307693, 0.20833333333333334, 'squared_error = 0.0\\nsamples = 1\\nvalue = 2.664'),\n",
       " Text(0.08108108108108109, 0.20833333333333334, 'squared_error = 0.0\\nsamples = 1\\nvalue = 2.667'),\n",
       " Text(0.08731808731808732, 0.2916666666666667, 'X[1] <= 0.43\\nsquared_error = 0.001\\nsamples = 2\\nvalue = 2.426'),\n",
       " Text(0.08523908523908524, 0.20833333333333334, 'squared_error = 0.0\\nsamples = 1\\nvalue = 2.398'),\n",
       " Text(0.0893970893970894, 0.20833333333333334, 'squared_error = 0.0\\nsamples = 1\\nvalue = 2.453'),\n",
       " Text(0.13487525987525986, 0.625, 'X[1] <= 0.62\\nsquared_error = 0.102\\nsamples = 36\\nvalue = 1.537'),\n",
       " Text(0.11070686070686071, 0.5416666666666666, 'X[1] <= 0.523\\nsquared_error = 0.039\\nsamples = 15\\nvalue = 1.853'),\n",
       " Text(0.10187110187110188, 0.4583333333333333, 'X[1] <= 0.507\\nsquared_error = 0.014\\nsamples = 6\\nvalue = 2.066'),\n",
       " Text(0.0997920997920998, 0.375, 'X[1] <= 0.466\\nsquared_error = 0.005\\nsamples = 5\\nvalue = 2.022'),\n",
       " Text(0.09563409563409564, 0.2916666666666667, 'X[0] <= 0.95\\nsquared_error = 0.002\\nsamples = 2\\nvalue = 2.102'),\n",
       " Text(0.09355509355509356, 0.20833333333333334, 'squared_error = 0.0\\nsamples = 1\\nvalue = 2.057'),\n",
       " Text(0.09771309771309772, 0.20833333333333334, 'squared_error = 0.0\\nsamples = 1\\nvalue = 2.148'),\n",
       " Text(0.10395010395010396, 0.2916666666666667, 'X[0] <= 0.974\\nsquared_error = 0.0\\nsamples = 3\\nvalue = 1.968'),\n",
       " Text(0.10187110187110188, 0.20833333333333334, 'X[0] <= 0.949\\nsquared_error = 0.0\\nsamples = 2\\nvalue = 1.971'),\n",
       " Text(0.0997920997920998, 0.125, 'squared_error = 0.0\\nsamples = 1\\nvalue = 1.964'),\n",
       " Text(0.10395010395010396, 0.125, 'squared_error = -0.0\\nsamples = 1\\nvalue = 1.978'),\n",
       " Text(0.10602910602910603, 0.20833333333333334, 'squared_error = 0.0\\nsamples = 1\\nvalue = 1.963'),\n",
       " Text(0.10395010395010396, 0.375, 'squared_error = -0.0\\nsamples = 1\\nvalue = 2.287'),\n",
       " Text(0.11954261954261955, 0.4583333333333333, 'X[1] <= 0.557\\nsquared_error = 0.005\\nsamples = 9\\nvalue = 1.711'),\n",
       " Text(0.11434511434511435, 0.375, 'X[0] <= 0.979\\nsquared_error = 0.002\\nsamples = 4\\nvalue = 1.776'),\n",
       " Text(0.11226611226611227, 0.2916666666666667, 'X[1] <= 0.535\\nsquared_error = 0.0\\nsamples = 3\\nvalue = 1.752'),\n",
       " Text(0.1101871101871102, 0.20833333333333334, 'squared_error = 0.0\\nsamples = 1\\nvalue = 1.723'),\n",
       " Text(0.11434511434511435, 0.20833333333333334, 'X[0] <= 0.958\\nsquared_error = 0.0\\nsamples = 2\\nvalue = 1.766'),\n",
       " Text(0.11226611226611227, 0.125, 'squared_error = 0.0\\nsamples = 1\\nvalue = 1.773'),\n",
       " Text(0.11642411642411643, 0.125, 'squared_error = 0.0\\nsamples = 1\\nvalue = 1.76'),\n",
       " Text(0.11642411642411643, 0.2916666666666667, 'squared_error = 0.0\\nsamples = 1\\nvalue = 1.85'),\n",
       " Text(0.12474012474012475, 0.375, 'X[1] <= 0.569\\nsquared_error = 0.001\\nsamples = 5\\nvalue = 1.658'),\n",
       " Text(0.12266112266112267, 0.2916666666666667, 'squared_error = 0.0\\nsamples = 1\\nvalue = 1.701'),\n",
       " Text(0.12681912681912683, 0.2916666666666667, 'X[0] <= 0.985\\nsquared_error = 0.001\\nsamples = 4\\nvalue = 1.647'),\n",
       " Text(0.12266112266112267, 0.20833333333333334, 'X[1] <= 0.592\\nsquared_error = 0.0\\nsamples = 2\\nvalue = 1.617'),\n",
       " Text(0.12058212058212059, 0.125, 'squared_error = 0.0\\nsamples = 1\\nvalue = 1.63'),\n",
       " Text(0.12474012474012475, 0.125, 'squared_error = 0.0\\nsamples = 1\\nvalue = 1.603'),\n",
       " Text(0.13097713097713098, 0.20833333333333334, 'X[1] <= 0.601\\nsquared_error = 0.0\\nsamples = 2\\nvalue = 1.678'),\n",
       " Text(0.1288981288981289, 0.125, 'squared_error = 0.0\\nsamples = 1\\nvalue = 1.695'),\n",
       " Text(0.13305613305613306, 0.125, 'squared_error = 0.0\\nsamples = 1\\nvalue = 1.661'),\n",
       " Text(0.15904365904365905, 0.5416666666666666, 'X[1] <= 0.756\\nsquared_error = 0.026\\nsamples = 21\\nvalue = 1.312'),\n",
       " Text(0.14553014553014554, 0.4583333333333333, 'X[1] <= 0.697\\nsquared_error = 0.009\\nsamples = 8\\nvalue = 1.471'),\n",
       " Text(0.1392931392931393, 0.375, 'X[1] <= 0.672\\nsquared_error = 0.005\\nsamples = 4\\nvalue = 1.541'),\n",
       " Text(0.13721413721413722, 0.2916666666666667, 'X[1] <= 0.624\\nsquared_error = 0.001\\nsamples = 3\\nvalue = 1.505'),\n",
       " Text(0.13513513513513514, 0.20833333333333334, 'squared_error = 0.0\\nsamples = 1\\nvalue = 1.551'),\n",
       " Text(0.1392931392931393, 0.20833333333333334, 'X[0] <= 0.946\\nsquared_error = 0.0\\nsamples = 2\\nvalue = 1.482'),\n",
       " Text(0.13721413721413722, 0.125, 'squared_error = 0.0\\nsamples = 1\\nvalue = 1.488'),\n",
       " Text(0.14137214137214138, 0.125, 'squared_error = 0.0\\nsamples = 1\\nvalue = 1.476'),\n",
       " Text(0.14137214137214138, 0.2916666666666667, 'squared_error = 0.0\\nsamples = 1\\nvalue = 1.648'),\n",
       " Text(0.15176715176715178, 0.375, 'X[0] <= 1.05\\nsquared_error = 0.004\\nsamples = 4\\nvalue = 1.402'),\n",
       " Text(0.1496881496881497, 0.2916666666666667, 'X[1] <= 0.709\\nsquared_error = 0.001\\nsamples = 3\\nvalue = 1.372'),\n",
       " Text(0.14760914760914762, 0.20833333333333334, 'X[0] <= 0.953\\nsquared_error = 0.0\\nsamples = 2\\nvalue = 1.35'),\n",
       " Text(0.14553014553014554, 0.125, 'squared_error = 0.0\\nsamples = 1\\nvalue = 1.335'),\n",
       " Text(0.1496881496881497, 0.125, 'squared_error = 0.0\\nsamples = 1\\nvalue = 1.366'),\n",
       " Text(0.15176715176715178, 0.20833333333333334, 'squared_error = 0.0\\nsamples = 1\\nvalue = 1.415'),\n",
       " Text(0.15384615384615385, 0.2916666666666667, 'squared_error = 0.0\\nsamples = 1\\nvalue = 1.492'),\n",
       " Text(0.17255717255717257, 0.4583333333333333, 'X[0] <= 0.989\\nsquared_error = 0.011\\nsamples = 13\\nvalue = 1.214'),\n",
       " Text(0.16216216216216217, 0.375, 'X[1] <= 0.834\\nsquared_error = 0.005\\nsamples = 6\\nvalue = 1.126'),\n",
       " Text(0.158004158004158, 0.2916666666666667, 'X[1] <= 0.785\\nsquared_error = 0.001\\nsamples = 2\\nvalue = 1.221'),\n",
       " Text(0.15592515592515593, 0.20833333333333334, 'squared_error = 0.0\\nsamples = 1\\nvalue = 1.254'),\n",
       " Text(0.1600831600831601, 0.20833333333333334, 'squared_error = 0.0\\nsamples = 1\\nvalue = 1.188'),\n",
       " Text(0.16632016632016633, 0.2916666666666667, 'X[1] <= 0.921\\nsquared_error = 0.0\\nsamples = 4\\nvalue = 1.079'),\n",
       " Text(0.16424116424116425, 0.20833333333333334, 'X[1] <= 0.88\\nsquared_error = 0.0\\nsamples = 3\\nvalue = 1.089'),\n",
       " Text(0.16216216216216217, 0.125, 'squared_error = 0.0\\nsamples = 1\\nvalue = 1.076'),\n",
       " Text(0.16632016632016633, 0.125, 'X[1] <= 0.896\\nsquared_error = 0.0\\nsamples = 2\\nvalue = 1.095'),\n",
       " Text(0.16424116424116425, 0.041666666666666664, '\\n  (...)  \\n'),\n",
       " Text(0.1683991683991684, 0.041666666666666664, '\\n  (...)  \\n'),\n",
       " Text(0.1683991683991684, 0.20833333333333334, 'squared_error = -0.0\\nsamples = 1\\nvalue = 1.049'),\n",
       " Text(0.18295218295218296, 0.375, 'X[0] <= 1.123\\nsquared_error = 0.004\\nsamples = 7\\nvalue = 1.289'),\n",
       " Text(0.1787941787941788, 0.2916666666666667, 'X[1] <= 0.895\\nsquared_error = 0.001\\nsamples = 4\\nvalue = 1.249'),\n",
       " Text(0.17671517671517672, 0.20833333333333334, 'X[0] <= 1.071\\nsquared_error = 0.0\\nsamples = 3\\nvalue = 1.262'),\n",
       " Text(0.17463617463617465, 0.125, 'X[1] <= 0.802\\nsquared_error = 0.0\\nsamples = 2\\nvalue = 1.265'),\n",
       " Text(0.17255717255717257, 0.041666666666666664, '\\n  (...)  \\n'),\n",
       " Text(0.17671517671517672, 0.041666666666666664, '\\n  (...)  \\n'),\n",
       " Text(0.1787941787941788, 0.125, 'squared_error = 0.0\\nsamples = 1\\nvalue = 1.256'),\n",
       " Text(0.18087318087318088, 0.20833333333333334, 'squared_error = -0.0\\nsamples = 1\\nvalue = 1.211'),\n",
       " Text(0.18711018711018712, 0.2916666666666667, 'X[1] <= 0.839\\nsquared_error = 0.003\\nsamples = 3\\nvalue = 1.342'),\n",
       " Text(0.18503118503118504, 0.20833333333333334, 'squared_error = 0.0\\nsamples = 1\\nvalue = 1.409'),\n",
       " Text(0.1891891891891892, 0.20833333333333334, 'X[0] <= 1.158\\nsquared_error = 0.001\\nsamples = 2\\nvalue = 1.308'),\n",
       " Text(0.18711018711018712, 0.125, 'squared_error = 0.0\\nsamples = 1\\nvalue = 1.342'),\n",
       " Text(0.19126819126819128, 0.125, 'squared_error = 0.0\\nsamples = 1\\nvalue = 1.274'),\n",
       " Text(0.5350506756756757, 0.7083333333333334, 'X[1] <= 3.384\\nsquared_error = 0.014\\nsamples = 3291\\nvalue = 0.081'),\n",
       " Text(0.3338747401247401, 0.625, 'X[1] <= 1.637\\nsquared_error = 0.041\\nsamples = 159\\nvalue = 0.525'),\n",
       " Text(0.26364345114345117, 0.5416666666666666, 'X[1] <= 1.314\\nsquared_error = 0.018\\nsamples = 45\\nvalue = 0.797'),\n",
       " Text(0.22557172557172558, 0.4583333333333333, 'X[1] <= 1.068\\nsquared_error = 0.006\\nsamples = 24\\nvalue = 0.906'),\n",
       " Text(0.20686070686070687, 0.375, 'X[0] <= 0.97\\nsquared_error = 0.002\\nsamples = 10\\nvalue = 0.977'),\n",
       " Text(0.1995841995841996, 0.2916666666666667, 'X[1] <= 1.034\\nsquared_error = 0.001\\nsamples = 5\\nvalue = 0.949'),\n",
       " Text(0.19750519750519752, 0.20833333333333334, 'X[1] <= 0.96\\nsquared_error = 0.0\\nsamples = 4\\nvalue = 0.965'),\n",
       " Text(0.19542619542619544, 0.125, 'squared_error = 0.0\\nsamples = 1\\nvalue = 0.987'),\n",
       " Text(0.1995841995841996, 0.125, 'X[0] <= 0.961\\nsquared_error = 0.0\\nsamples = 3\\nvalue = 0.957'),\n",
       " Text(0.19750519750519752, 0.041666666666666664, '\\n  (...)  \\n'),\n",
       " Text(0.20166320166320167, 0.041666666666666664, '\\n  (...)  \\n'),\n",
       " Text(0.20166320166320167, 0.20833333333333334, 'squared_error = 0.0\\nsamples = 1\\nvalue = 0.885'),\n",
       " Text(0.21413721413721415, 0.2916666666666667, 'X[1] <= 1.042\\nsquared_error = 0.001\\nsamples = 5\\nvalue = 1.006'),\n",
       " Text(0.21205821205821207, 0.20833333333333334, 'X[0] <= 1.027\\nsquared_error = 0.0\\nsamples = 4\\nvalue = 1.017'),\n",
       " Text(0.2079002079002079, 0.125, 'X[0] <= 0.999\\nsquared_error = 0.0\\nsamples = 2\\nvalue = 1.011'),\n",
       " Text(0.20582120582120583, 0.041666666666666664, '\\n  (...)  \\n'),\n",
       " Text(0.20997920997921, 0.041666666666666664, '\\n  (...)  \\n'),\n",
       " Text(0.21621621621621623, 0.125, 'X[1] <= 1.011\\nsquared_error = 0.0\\nsamples = 2\\nvalue = 1.024'),\n",
       " Text(0.21413721413721415, 0.041666666666666664, '\\n  (...)  \\n'),\n",
       " Text(0.2182952182952183, 0.041666666666666664, '\\n  (...)  \\n'),\n",
       " Text(0.21621621621621623, 0.20833333333333334, 'squared_error = 0.0\\nsamples = 1\\nvalue = 0.961'),\n",
       " Text(0.2442827442827443, 0.375, 'X[0] <= 1.036\\nsquared_error = 0.002\\nsamples = 14\\nvalue = 0.856'),\n",
       " Text(0.22972972972972974, 0.2916666666666667, 'X[1] <= 1.136\\nsquared_error = 0.001\\nsamples = 8\\nvalue = 0.824'),\n",
       " Text(0.22245322245322247, 0.20833333333333334, 'X[0] <= 0.946\\nsquared_error = 0.0\\nsamples = 3\\nvalue = 0.865'),\n",
       " Text(0.2203742203742204, 0.125, 'squared_error = 0.0\\nsamples = 1\\nvalue = 0.843'),\n",
       " Text(0.22453222453222454, 0.125, 'X[0] <= 0.958\\nsquared_error = 0.0\\nsamples = 2\\nvalue = 0.876'),\n",
       " Text(0.22245322245322247, 0.041666666666666664, '\\n  (...)  \\n'),\n",
       " Text(0.22661122661122662, 0.041666666666666664, '\\n  (...)  \\n'),\n",
       " Text(0.23700623700623702, 0.20833333333333334, 'X[1] <= 1.16\\nsquared_error = 0.0\\nsamples = 5\\nvalue = 0.8'),\n",
       " Text(0.23284823284823286, 0.125, 'X[0] <= 0.942\\nsquared_error = 0.0\\nsamples = 2\\nvalue = 0.814'),\n",
       " Text(0.23076923076923078, 0.041666666666666664, '\\n  (...)  \\n'),\n",
       " Text(0.23492723492723494, 0.041666666666666664, '\\n  (...)  \\n'),\n",
       " Text(0.24116424116424118, 0.125, 'X[0] <= 0.92\\nsquared_error = 0.0\\nsamples = 3\\nvalue = 0.791'),\n",
       " Text(0.2390852390852391, 0.041666666666666664, '\\n  (...)  \\n'),\n",
       " Text(0.24324324324324326, 0.041666666666666664, '\\n  (...)  \\n'),\n",
       " Text(0.2588357588357588, 0.2916666666666667, 'X[0] <= 1.101\\nsquared_error = 0.001\\nsamples = 6\\nvalue = 0.897'),\n",
       " Text(0.25363825363825365, 0.20833333333333334, 'X[1] <= 1.242\\nsquared_error = 0.001\\nsamples = 4\\nvalue = 0.88'),\n",
       " Text(0.2494802494802495, 0.125, 'X[1] <= 1.201\\nsquared_error = 0.0\\nsamples = 2\\nvalue = 0.907'),\n",
       " Text(0.24740124740124741, 0.041666666666666664, '\\n  (...)  \\n'),\n",
       " Text(0.2515592515592516, 0.041666666666666664, '\\n  (...)  \\n'),\n",
       " Text(0.2577962577962578, 0.125, 'X[1] <= 1.277\\nsquared_error = 0.0\\nsamples = 2\\nvalue = 0.854'),\n",
       " Text(0.25571725571725573, 0.041666666666666664, '\\n  (...)  \\n'),\n",
       " Text(0.2598752598752599, 0.041666666666666664, '\\n  (...)  \\n'),\n",
       " Text(0.26403326403326405, 0.20833333333333334, 'X[1] <= 1.222\\nsquared_error = 0.0\\nsamples = 2\\nvalue = 0.931'),\n",
       " Text(0.26195426195426197, 0.125, 'squared_error = 0.0\\nsamples = 1\\nvalue = 0.944'),\n",
       " Text(0.2661122661122661, 0.125, 'squared_error = 0.0\\nsamples = 1\\nvalue = 0.918'),\n",
       " Text(0.3017151767151767, 0.4583333333333333, 'X[0] <= 1.052\\nsquared_error = 0.003\\nsamples = 21\\nvalue = 0.673'),\n",
       " Text(0.2874220374220374, 0.375, 'X[1] <= 1.5\\nsquared_error = 0.002\\nsamples = 14\\nvalue = 0.642'),\n",
       " Text(0.27754677754677753, 0.2916666666666667, 'X[0] <= 0.932\\nsquared_error = 0.001\\nsamples = 6\\nvalue = 0.678'),\n",
       " Text(0.27234927234927236, 0.20833333333333334, 'X[0] <= 0.919\\nsquared_error = 0.0\\nsamples = 2\\nvalue = 0.648'),\n",
       " Text(0.2702702702702703, 0.125, 'squared_error = 0.0\\nsamples = 1\\nvalue = 0.654'),\n",
       " Text(0.27442827442827444, 0.125, 'squared_error = -0.0\\nsamples = 1\\nvalue = 0.642'),\n",
       " Text(0.28274428274428276, 0.20833333333333334, 'X[1] <= 1.42\\nsquared_error = 0.0\\nsamples = 4\\nvalue = 0.693'),\n",
       " Text(0.2785862785862786, 0.125, 'X[1] <= 1.373\\nsquared_error = 0.0\\nsamples = 2\\nvalue = 0.714'),\n",
       " Text(0.2765072765072765, 0.041666666666666664, '\\n  (...)  \\n'),\n",
       " Text(0.2806652806652807, 0.041666666666666664, '\\n  (...)  \\n'),\n",
       " Text(0.2869022869022869, 0.125, 'X[1] <= 1.462\\nsquared_error = 0.0\\nsamples = 2\\nvalue = 0.672'),\n",
       " Text(0.28482328482328484, 0.041666666666666664, '\\n  (...)  \\n'),\n",
       " Text(0.288981288981289, 0.041666666666666664, '\\n  (...)  \\n'),\n",
       " Text(0.2972972972972973, 0.2916666666666667, 'X[0] <= 0.923\\nsquared_error = 0.0\\nsamples = 8\\nvalue = 0.616'),\n",
       " Text(0.29521829521829523, 0.20833333333333334, 'squared_error = 0.0\\nsamples = 1\\nvalue = 0.569'),\n",
       " Text(0.2993762993762994, 0.20833333333333334, 'X[0] <= 0.952\\nsquared_error = 0.0\\nsamples = 7\\nvalue = 0.622'),\n",
       " Text(0.29521829521829523, 0.125, 'X[1] <= 1.519\\nsquared_error = 0.0\\nsamples = 2\\nvalue = 0.612'),\n",
       " Text(0.29313929313929316, 0.041666666666666664, '\\n  (...)  \\n'),\n",
       " Text(0.2972972972972973, 0.041666666666666664, '\\n  (...)  \\n'),\n",
       " Text(0.30353430353430355, 0.125, 'X[0] <= 0.982\\nsquared_error = 0.0\\nsamples = 5\\nvalue = 0.626'),\n",
       " Text(0.30145530145530147, 0.041666666666666664, '\\n  (...)  \\n'),\n",
       " Text(0.30561330561330563, 0.041666666666666664, '\\n  (...)  \\n'),\n",
       " Text(0.316008316008316, 0.375, 'X[1] <= 1.582\\nsquared_error = 0.002\\nsamples = 7\\nvalue = 0.734'),\n",
       " Text(0.31185031185031187, 0.2916666666666667, 'X[1] <= 1.547\\nsquared_error = 0.0\\nsamples = 5\\nvalue = 0.759'),\n",
       " Text(0.3097713097713098, 0.20833333333333334, 'X[0] <= 1.092\\nsquared_error = 0.0\\nsamples = 4\\nvalue = 0.764'),\n",
       " Text(0.3076923076923077, 0.125, 'squared_error = 0.0\\nsamples = 1\\nvalue = 0.775'),\n",
       " Text(0.31185031185031187, 0.125, 'X[1] <= 1.49\\nsquared_error = 0.0\\nsamples = 3\\nvalue = 0.76'),\n",
       " Text(0.3097713097713098, 0.041666666666666664, '\\n  (...)  \\n'),\n",
       " Text(0.31392931392931395, 0.041666666666666664, '\\n  (...)  \\n'),\n",
       " Text(0.31392931392931395, 0.20833333333333334, 'squared_error = 0.0\\nsamples = 1\\nvalue = 0.737'),\n",
       " Text(0.3201663201663202, 0.2916666666666667, 'X[0] <= 1.09\\nsquared_error = 0.0\\nsamples = 2\\nvalue = 0.674'),\n",
       " Text(0.3180873180873181, 0.20833333333333334, 'squared_error = 0.0\\nsamples = 1\\nvalue = 0.67'),\n",
       " Text(0.32224532224532226, 0.20833333333333334, 'squared_error = 0.0\\nsamples = 1\\nvalue = 0.678'),\n",
       " Text(0.4041060291060291, 0.5416666666666666, 'X[1] <= 2.215\\nsquared_error = 0.008\\nsamples = 114\\nvalue = 0.417'),\n",
       " Text(0.36382536382536385, 0.4583333333333333, 'X[1] <= 2.014\\nsquared_error = 0.004\\nsamples = 33\\nvalue = 0.534'),\n",
       " Text(0.34615384615384615, 0.375, 'X[0] <= 1.137\\nsquared_error = 0.002\\nsamples = 21\\nvalue = 0.57'),\n",
       " Text(0.33471933471933474, 0.2916666666666667, 'X[1] <= 1.783\\nsquared_error = 0.001\\nsamples = 17\\nvalue = 0.556'),\n",
       " Text(0.3264033264033264, 0.20833333333333334, 'X[0] <= 0.99\\nsquared_error = 0.0\\nsamples = 10\\nvalue = 0.572'),\n",
       " Text(0.32224532224532226, 0.125, 'X[0] <= 0.953\\nsquared_error = 0.0\\nsamples = 6\\nvalue = 0.565'),\n",
       " Text(0.3201663201663202, 0.041666666666666664, '\\n  (...)  \\n'),\n",
       " Text(0.32432432432432434, 0.041666666666666664, '\\n  (...)  \\n'),\n",
       " Text(0.3305613305613306, 0.125, 'X[1] <= 1.705\\nsquared_error = 0.0\\nsamples = 4\\nvalue = 0.582'),\n",
       " Text(0.3284823284823285, 0.041666666666666664, '\\n  (...)  \\n'),\n",
       " Text(0.33264033264033266, 0.041666666666666664, '\\n  (...)  \\n'),\n",
       " Text(0.34303534303534305, 0.20833333333333334, 'X[0] <= 1.05\\nsquared_error = 0.001\\nsamples = 7\\nvalue = 0.532'),\n",
       " Text(0.3388773388773389, 0.125, 'X[1] <= 1.89\\nsquared_error = 0.0\\nsamples = 5\\nvalue = 0.516'),\n",
       " Text(0.3367983367983368, 0.041666666666666664, '\\n  (...)  \\n'),\n",
       " Text(0.340956340956341, 0.041666666666666664, '\\n  (...)  \\n'),\n",
       " Text(0.3471933471933472, 0.125, 'X[0] <= 1.099\\nsquared_error = 0.0\\nsamples = 2\\nvalue = 0.574'),\n",
       " Text(0.34511434511434513, 0.041666666666666664, '\\n  (...)  \\n'),\n",
       " Text(0.3492723492723493, 0.041666666666666664, '\\n  (...)  \\n'),\n",
       " Text(0.3575883575883576, 0.2916666666666667, 'X[1] <= 1.861\\nsquared_error = 0.001\\nsamples = 4\\nvalue = 0.631'),\n",
       " Text(0.35343035343035345, 0.20833333333333334, 'X[1] <= 1.775\\nsquared_error = 0.0\\nsamples = 2\\nvalue = 0.662'),\n",
       " Text(0.35135135135135137, 0.125, 'squared_error = 0.0\\nsamples = 1\\nvalue = 0.678'),\n",
       " Text(0.35550935550935553, 0.125, 'squared_error = -0.0\\nsamples = 1\\nvalue = 0.645'),\n",
       " Text(0.36174636174636177, 0.20833333333333334, 'X[0] <= 1.174\\nsquared_error = 0.0\\nsamples = 2\\nvalue = 0.601'),\n",
       " Text(0.3596673596673597, 0.125, 'squared_error = 0.0\\nsamples = 1\\nvalue = 0.615'),\n",
       " Text(0.36382536382536385, 0.125, 'squared_error = -0.0\\nsamples = 1\\nvalue = 0.588'),\n",
       " Text(0.3814968814968815, 0.375, 'X[0] <= 0.986\\nsquared_error = 0.001\\nsamples = 12\\nvalue = 0.471'),\n",
       " Text(0.37422037422037424, 0.2916666666666667, 'X[0] <= 0.956\\nsquared_error = 0.0\\nsamples = 8\\nvalue = 0.452'),\n",
       " Text(0.3700623700623701, 0.20833333333333334, 'X[0] <= 0.927\\nsquared_error = 0.0\\nsamples = 3\\nvalue = 0.439'),\n",
       " Text(0.367983367983368, 0.125, 'squared_error = 0.0\\nsamples = 1\\nvalue = 0.426'),\n",
       " Text(0.37214137214137216, 0.125, 'X[0] <= 0.94\\nsquared_error = 0.0\\nsamples = 2\\nvalue = 0.445'),\n",
       " Text(0.3700623700623701, 0.041666666666666664, '\\n  (...)  \\n'),\n",
       " Text(0.37422037422037424, 0.041666666666666664, '\\n  (...)  \\n'),\n",
       " Text(0.3783783783783784, 0.20833333333333334, 'X[1] <= 2.072\\nsquared_error = 0.0\\nsamples = 5\\nvalue = 0.46'),\n",
       " Text(0.3762993762993763, 0.125, 'squared_error = 0.0\\nsamples = 1\\nvalue = 0.477'),\n",
       " Text(0.3804573804573805, 0.125, 'X[0] <= 0.976\\nsquared_error = 0.0\\nsamples = 4\\nvalue = 0.456'),\n",
       " Text(0.3783783783783784, 0.041666666666666664, '\\n  (...)  \\n'),\n",
       " Text(0.38253638253638256, 0.041666666666666664, '\\n  (...)  \\n'),\n",
       " Text(0.3887733887733888, 0.2916666666666667, 'X[0] <= 1.137\\nsquared_error = 0.0\\nsamples = 4\\nvalue = 0.508'),\n",
       " Text(0.3866943866943867, 0.20833333333333334, 'X[0] <= 1.042\\nsquared_error = 0.0\\nsamples = 3\\nvalue = 0.496'),\n",
       " Text(0.38461538461538464, 0.125, 'squared_error = 0.0\\nsamples = 1\\nvalue = 0.487'),\n",
       " Text(0.3887733887733888, 0.125, 'X[1] <= 2.196\\nsquared_error = 0.0\\nsamples = 2\\nvalue = 0.501'),\n",
       " Text(0.3866943866943867, 0.041666666666666664, '\\n  (...)  \\n'),\n",
       " Text(0.3908523908523909, 0.041666666666666664, '\\n  (...)  \\n'),\n",
       " Text(0.3908523908523909, 0.20833333333333334, 'squared_error = -0.0\\nsamples = 1\\nvalue = 0.543'),\n",
       " Text(0.44438669438669437, 0.4583333333333333, 'X[1] <= 2.691\\nsquared_error = 0.003\\nsamples = 81\\nvalue = 0.37'),\n",
       " Text(0.4183991683991684, 0.375, 'X[0] <= 0.967\\nsquared_error = 0.001\\nsamples = 37\\nvalue = 0.413'),\n",
       " Text(0.4022869022869023, 0.2916666666666667, 'X[1] <= 2.532\\nsquared_error = 0.0\\nsamples = 15\\nvalue = 0.382'),\n",
       " Text(0.39501039501039503, 0.20833333333333334, 'X[1] <= 2.25\\nsquared_error = 0.0\\nsamples = 8\\nvalue = 0.4'),\n",
       " Text(0.39293139293139295, 0.125, 'squared_error = 0.0\\nsamples = 1\\nvalue = 0.423'),\n",
       " Text(0.3970893970893971, 0.125, 'X[1] <= 2.319\\nsquared_error = 0.0\\nsamples = 7\\nvalue = 0.397'),\n",
       " Text(0.39501039501039503, 0.041666666666666664, '\\n  (...)  \\n'),\n",
       " Text(0.3991683991683992, 0.041666666666666664, '\\n  (...)  \\n'),\n",
       " Text(0.4095634095634096, 0.20833333333333334, 'X[1] <= 2.611\\nsquared_error = 0.0\\nsamples = 7\\nvalue = 0.362'),\n",
       " Text(0.40540540540540543, 0.125, 'X[0] <= 0.944\\nsquared_error = 0.0\\nsamples = 5\\nvalue = 0.366'),\n",
       " Text(0.40332640332640335, 0.041666666666666664, '\\n  (...)  \\n'),\n",
       " Text(0.4074844074844075, 0.041666666666666664, '\\n  (...)  \\n'),\n",
       " Text(0.41372141372141374, 0.125, 'X[0] <= 0.927\\nsquared_error = 0.0\\nsamples = 2\\nvalue = 0.351'),\n",
       " Text(0.41164241164241167, 0.041666666666666664, '\\n  (...)  \\n'),\n",
       " Text(0.4158004158004158, 0.041666666666666664, '\\n  (...)  \\n'),\n",
       " Text(0.43451143451143454, 0.2916666666666667, 'X[0] <= 1.029\\nsquared_error = 0.0\\nsamples = 22\\nvalue = 0.434'),\n",
       " Text(0.4261954261954262, 0.20833333333333334, 'X[1] <= 2.311\\nsquared_error = 0.0\\nsamples = 10\\nvalue = 0.417'),\n",
       " Text(0.42203742203742206, 0.125, 'X[0] <= 0.977\\nsquared_error = 0.0\\nsamples = 3\\nvalue = 0.433'),\n",
       " Text(0.41995841995842, 0.041666666666666664, '\\n  (...)  \\n'),\n",
       " Text(0.42411642411642414, 0.041666666666666664, '\\n  (...)  \\n'),\n",
       " Text(0.4303534303534304, 0.125, 'X[1] <= 2.531\\nsquared_error = 0.0\\nsamples = 7\\nvalue = 0.41'),\n",
       " Text(0.4282744282744283, 0.041666666666666664, '\\n  (...)  \\n'),\n",
       " Text(0.43243243243243246, 0.041666666666666664, '\\n  (...)  \\n'),\n",
       " Text(0.44282744282744285, 0.20833333333333334, 'X[1] <= 2.622\\nsquared_error = 0.0\\nsamples = 12\\nvalue = 0.448'),\n",
       " Text(0.4386694386694387, 0.125, 'X[1] <= 2.522\\nsquared_error = 0.0\\nsamples = 10\\nvalue = 0.454'),\n",
       " Text(0.4365904365904366, 0.041666666666666664, '\\n  (...)  \\n'),\n",
       " Text(0.4407484407484408, 0.041666666666666664, '\\n  (...)  \\n'),\n",
       " Text(0.446985446985447, 0.125, 'X[0] <= 1.119\\nsquared_error = 0.0\\nsamples = 2\\nvalue = 0.421'),\n",
       " Text(0.44490644490644493, 0.041666666666666664, '\\n  (...)  \\n'),\n",
       " Text(0.4490644490644491, 0.041666666666666664, '\\n  (...)  \\n'),\n",
       " Text(0.4703742203742204, 0.375, 'X[1] <= 2.887\\nsquared_error = 0.001\\nsamples = 44\\nvalue = 0.334'),\n",
       " Text(0.4594594594594595, 0.2916666666666667, 'X[0] <= 1.037\\nsquared_error = 0.001\\nsamples = 14\\nvalue = 0.366'),\n",
       " Text(0.45322245322245325, 0.20833333333333334, 'X[0] <= 0.944\\nsquared_error = 0.0\\nsamples = 9\\nvalue = 0.352'),\n",
       " Text(0.45114345114345117, 0.125, 'squared_error = 0.0\\nsamples = 1\\nvalue = 0.325'),\n",
       " Text(0.4553014553014553, 0.125, 'X[0] <= 0.999\\nsquared_error = 0.0\\nsamples = 8\\nvalue = 0.355'),\n",
       " Text(0.45322245322245325, 0.041666666666666664, '\\n  (...)  \\n'),\n",
       " Text(0.4573804573804574, 0.041666666666666664, '\\n  (...)  \\n'),\n",
       " Text(0.4656964656964657, 0.20833333333333334, 'X[0] <= 1.14\\nsquared_error = 0.0\\nsamples = 5\\nvalue = 0.392'),\n",
       " Text(0.46361746361746364, 0.125, 'X[1] <= 2.766\\nsquared_error = 0.0\\nsamples = 4\\nvalue = 0.387'),\n",
       " Text(0.46153846153846156, 0.041666666666666664, '\\n  (...)  \\n'),\n",
       " Text(0.4656964656964657, 0.041666666666666664, '\\n  (...)  \\n'),\n",
       " Text(0.4677754677754678, 0.125, 'squared_error = 0.0\\nsamples = 1\\nvalue = 0.412'),\n",
       " Text(0.4812889812889813, 0.2916666666666667, 'X[0] <= 1.134\\nsquared_error = 0.0\\nsamples = 30\\nvalue = 0.319'),\n",
       " Text(0.4760914760914761, 0.20833333333333334, 'X[1] <= 3.108\\nsquared_error = 0.0\\nsamples = 27\\nvalue = 0.314'),\n",
       " Text(0.47193347193347196, 0.125, 'X[0] <= 0.979\\nsquared_error = 0.0\\nsamples = 10\\nvalue = 0.325'),\n",
       " Text(0.4698544698544699, 0.041666666666666664, '\\n  (...)  \\n'),\n",
       " Text(0.47401247401247404, 0.041666666666666664, '\\n  (...)  \\n'),\n",
       " Text(0.4802494802494803, 0.125, 'X[0] <= 1.015\\nsquared_error = 0.0\\nsamples = 17\\nvalue = 0.307'),\n",
       " Text(0.4781704781704782, 0.041666666666666664, '\\n  (...)  \\n'),\n",
       " Text(0.48232848232848236, 0.041666666666666664, '\\n  (...)  \\n'),\n",
       " Text(0.4864864864864865, 0.20833333333333334, 'X[1] <= 3.17\\nsquared_error = 0.0\\nsamples = 3\\nvalue = 0.362'),\n",
       " Text(0.48440748440748443, 0.125, 'squared_error = 0.0\\nsamples = 1\\nvalue = 0.386'),\n",
       " Text(0.4885654885654886, 0.125, 'X[1] <= 3.327\\nsquared_error = 0.0\\nsamples = 2\\nvalue = 0.351'),\n",
       " Text(0.4864864864864865, 0.041666666666666664, '\\n  (...)  \\n'),\n",
       " Text(0.49064449064449067, 0.041666666666666664, '\\n  (...)  \\n'),\n",
       " Text(0.7362266112266113, 0.625, 'X[1] <= 10.121\\nsquared_error = 0.003\\nsamples = 3132\\nvalue = 0.058'),\n",
       " Text(0.6055093555093555, 0.5416666666666666, 'X[1] <= 5.441\\nsquared_error = 0.003\\nsamples = 460\\nvalue = 0.162'),\n",
       " Text(0.5436590436590436, 0.4583333333333333, 'X[1] <= 4.206\\nsquared_error = 0.001\\nsamples = 138\\nvalue = 0.23'),\n",
       " Text(0.5197505197505198, 0.375, 'X[0] <= 1.155\\nsquared_error = 0.0\\nsamples = 50\\nvalue = 0.269'),\n",
       " Text(0.5093555093555093, 0.2916666666666667, 'X[1] <= 3.744\\nsquared_error = 0.0\\nsamples = 46\\nvalue = 0.264'),\n",
       " Text(0.501039501039501, 0.20833333333333334, 'X[0] <= 1.024\\nsquared_error = 0.0\\nsamples = 24\\nvalue = 0.274'),\n",
       " Text(0.4968814968814969, 0.125, 'X[0] <= 0.976\\nsquared_error = 0.0\\nsamples = 20\\nvalue = 0.27'),\n",
       " Text(0.49480249480249483, 0.041666666666666664, '\\n  (...)  \\n'),\n",
       " Text(0.498960498960499, 0.041666666666666664, '\\n  (...)  \\n'),\n",
       " Text(0.5051975051975052, 0.125, 'X[1] <= 3.508\\nsquared_error = 0.0\\nsamples = 4\\nvalue = 0.295'),\n",
       " Text(0.5031185031185031, 0.041666666666666664, '\\n  (...)  \\n'),\n",
       " Text(0.5072765072765073, 0.041666666666666664, '\\n  (...)  \\n'),\n",
       " Text(0.5176715176715176, 0.20833333333333334, 'X[0] <= 1.021\\nsquared_error = 0.0\\nsamples = 22\\nvalue = 0.254'),\n",
       " Text(0.5135135135135135, 0.125, 'X[1] <= 3.795\\nsquared_error = 0.0\\nsamples = 12\\nvalue = 0.246'),\n",
       " Text(0.5114345114345115, 0.041666666666666664, '\\n  (...)  \\n'),\n",
       " Text(0.5155925155925156, 0.041666666666666664, '\\n  (...)  \\n'),\n",
       " Text(0.5218295218295218, 0.125, 'X[1] <= 4.197\\nsquared_error = 0.0\\nsamples = 10\\nvalue = 0.262'),\n",
       " Text(0.5197505197505198, 0.041666666666666664, '\\n  (...)  \\n'),\n",
       " Text(0.5239085239085239, 0.041666666666666664, '\\n  (...)  \\n'),\n",
       " Text(0.5301455301455301, 0.2916666666666667, 'X[1] <= 3.858\\nsquared_error = 0.0\\nsamples = 4\\nvalue = 0.317'),\n",
       " Text(0.5280665280665281, 0.20833333333333334, 'X[1] <= 3.558\\nsquared_error = 0.0\\nsamples = 3\\nvalue = 0.326'),\n",
       " Text(0.525987525987526, 0.125, 'squared_error = 0.0\\nsamples = 1\\nvalue = 0.331'),\n",
       " Text(0.5301455301455301, 0.125, 'X[1] <= 3.617\\nsquared_error = 0.0\\nsamples = 2\\nvalue = 0.324'),\n",
       " Text(0.5280665280665281, 0.041666666666666664, '\\n  (...)  \\n'),\n",
       " Text(0.5322245322245323, 0.041666666666666664, '\\n  (...)  \\n'),\n",
       " Text(0.5322245322245323, 0.20833333333333334, 'squared_error = 0.0\\nsamples = 1\\nvalue = 0.288'),\n",
       " Text(0.5675675675675675, 0.375, 'X[1] <= 5.056\\nsquared_error = 0.0\\nsamples = 88\\nvalue = 0.207'),\n",
       " Text(0.5509355509355509, 0.2916666666666667, 'X[0] <= 1.099\\nsquared_error = 0.0\\nsamples = 61\\nvalue = 0.216'),\n",
       " Text(0.5426195426195426, 0.20833333333333334, 'X[1] <= 4.58\\nsquared_error = 0.0\\nsamples = 51\\nvalue = 0.212'),\n",
       " Text(0.5384615384615384, 0.125, 'X[0] <= 0.963\\nsquared_error = 0.0\\nsamples = 24\\nvalue = 0.221'),\n",
       " Text(0.5363825363825364, 0.041666666666666664, '\\n  (...)  \\n'),\n",
       " Text(0.5405405405405406, 0.041666666666666664, '\\n  (...)  \\n'),\n",
       " Text(0.5467775467775468, 0.125, 'X[0] <= 0.965\\nsquared_error = 0.0\\nsamples = 27\\nvalue = 0.203'),\n",
       " Text(0.5446985446985447, 0.041666666666666664, '\\n  (...)  \\n'),\n",
       " Text(0.5488565488565489, 0.041666666666666664, '\\n  (...)  \\n'),\n",
       " Text(0.5592515592515592, 0.20833333333333334, 'X[1] <= 4.705\\nsquared_error = 0.0\\nsamples = 10\\nvalue = 0.241'),\n",
       " Text(0.5550935550935551, 0.125, 'X[1] <= 4.353\\nsquared_error = 0.0\\nsamples = 4\\nvalue = 0.255'),\n",
       " Text(0.553014553014553, 0.041666666666666664, '\\n  (...)  \\n'),\n",
       " Text(0.5571725571725572, 0.041666666666666664, '\\n  (...)  \\n'),\n",
       " Text(0.5634095634095634, 0.125, 'X[0] <= 1.153\\nsquared_error = 0.0\\nsamples = 6\\nvalue = 0.231'),\n",
       " Text(0.5613305613305614, 0.041666666666666664, '\\n  (...)  \\n'),\n",
       " Text(0.5654885654885655, 0.041666666666666664, '\\n  (...)  \\n'),\n",
       " Text(0.5841995841995842, 0.2916666666666667, 'X[0] <= 1.014\\nsquared_error = 0.0\\nsamples = 27\\nvalue = 0.187'),\n",
       " Text(0.5758835758835759, 0.20833333333333334, 'X[0] <= 0.977\\nsquared_error = 0.0\\nsamples = 23\\nvalue = 0.184'),\n",
       " Text(0.5717255717255717, 0.125, 'X[1] <= 5.369\\nsquared_error = 0.0\\nsamples = 16\\nvalue = 0.181'),\n",
       " Text(0.5696465696465697, 0.041666666666666664, '\\n  (...)  \\n'),\n",
       " Text(0.5738045738045738, 0.041666666666666664, '\\n  (...)  \\n'),\n",
       " Text(0.58004158004158, 0.125, 'X[1] <= 5.208\\nsquared_error = 0.0\\nsamples = 7\\nvalue = 0.191'),\n",
       " Text(0.577962577962578, 0.041666666666666664, '\\n  (...)  \\n'),\n",
       " Text(0.5821205821205822, 0.041666666666666664, '\\n  (...)  \\n'),\n",
       " Text(0.5925155925155925, 0.20833333333333334, 'X[0] <= 1.097\\nsquared_error = 0.0\\nsamples = 4\\nvalue = 0.208'),\n",
       " Text(0.5883575883575883, 0.125, 'X[1] <= 5.097\\nsquared_error = 0.0\\nsamples = 2\\nvalue = 0.203'),\n",
       " Text(0.5862785862785863, 0.041666666666666664, '\\n  (...)  \\n'),\n",
       " Text(0.5904365904365905, 0.041666666666666664, '\\n  (...)  \\n'),\n",
       " Text(0.5966735966735967, 0.125, 'X[1] <= 5.419\\nsquared_error = 0.0\\nsamples = 2\\nvalue = 0.213'),\n",
       " Text(0.5945945945945946, 0.041666666666666664, '\\n  (...)  \\n'),\n",
       " Text(0.5987525987525988, 0.041666666666666664, '\\n  (...)  \\n'),\n",
       " Text(0.6673596673596673, 0.4583333333333333, 'X[1] <= 7.403\\nsquared_error = 0.001\\nsamples = 322\\nvalue = 0.132'),\n",
       " Text(0.6340956340956341, 0.375, 'X[1] <= 6.165\\nsquared_error = 0.0\\nsamples = 128\\nvalue = 0.157'),\n",
       " Text(0.6174636174636174, 0.2916666666666667, 'X[0] <= 1.029\\nsquared_error = 0.0\\nsamples = 45\\nvalue = 0.171'),\n",
       " Text(0.6091476091476091, 0.20833333333333334, 'X[1] <= 5.928\\nsquared_error = 0.0\\nsamples = 35\\nvalue = 0.165'),\n",
       " Text(0.604989604989605, 0.125, 'X[0] <= 0.921\\nsquared_error = 0.0\\nsamples = 22\\nvalue = 0.169'),\n",
       " Text(0.6029106029106029, 0.041666666666666664, '\\n  (...)  \\n'),\n",
       " Text(0.6070686070686071, 0.041666666666666664, '\\n  (...)  \\n'),\n",
       " Text(0.6133056133056133, 0.125, 'X[0] <= 0.948\\nsquared_error = 0.0\\nsamples = 13\\nvalue = 0.16'),\n",
       " Text(0.6112266112266113, 0.041666666666666664, '\\n  (...)  \\n'),\n",
       " Text(0.6153846153846154, 0.041666666666666664, '\\n  (...)  \\n'),\n",
       " Text(0.6257796257796258, 0.20833333333333334, 'X[0] <= 1.092\\nsquared_error = 0.0\\nsamples = 10\\nvalue = 0.19'),\n",
       " Text(0.6216216216216216, 0.125, 'X[0] <= 1.058\\nsquared_error = 0.0\\nsamples = 3\\nvalue = 0.18'),\n",
       " Text(0.6195426195426196, 0.041666666666666664, '\\n  (...)  \\n'),\n",
       " Text(0.6237006237006237, 0.041666666666666664, '\\n  (...)  \\n'),\n",
       " Text(0.6299376299376299, 0.125, 'X[0] <= 1.135\\nsquared_error = 0.0\\nsamples = 7\\nvalue = 0.194'),\n",
       " Text(0.6278586278586279, 0.041666666666666664, '\\n  (...)  \\n'),\n",
       " Text(0.632016632016632, 0.041666666666666664, '\\n  (...)  \\n'),\n",
       " Text(0.6507276507276507, 0.2916666666666667, 'X[0] <= 1.013\\nsquared_error = 0.0\\nsamples = 83\\nvalue = 0.149'),\n",
       " Text(0.6424116424116424, 0.20833333333333334, 'X[1] <= 6.749\\nsquared_error = 0.0\\nsamples = 55\\nvalue = 0.143'),\n",
       " Text(0.6382536382536382, 0.125, 'X[1] <= 6.369\\nsquared_error = 0.0\\nsamples = 32\\nvalue = 0.148'),\n",
       " Text(0.6361746361746362, 0.041666666666666664, '\\n  (...)  \\n'),\n",
       " Text(0.6403326403326404, 0.041666666666666664, '\\n  (...)  \\n'),\n",
       " Text(0.6465696465696466, 0.125, 'X[1] <= 7.014\\nsquared_error = 0.0\\nsamples = 23\\nvalue = 0.136'),\n",
       " Text(0.6444906444906445, 0.041666666666666664, '\\n  (...)  \\n'),\n",
       " Text(0.6486486486486487, 0.041666666666666664, '\\n  (...)  \\n'),\n",
       " Text(0.659043659043659, 0.20833333333333334, 'X[1] <= 7.042\\nsquared_error = 0.0\\nsamples = 28\\nvalue = 0.161'),\n",
       " Text(0.6548856548856549, 0.125, 'X[0] <= 1.089\\nsquared_error = 0.0\\nsamples = 20\\nvalue = 0.164'),\n",
       " Text(0.6528066528066528, 0.041666666666666664, '\\n  (...)  \\n'),\n",
       " Text(0.656964656964657, 0.041666666666666664, '\\n  (...)  \\n'),\n",
       " Text(0.6632016632016632, 0.125, 'X[0] <= 1.068\\nsquared_error = 0.0\\nsamples = 8\\nvalue = 0.152'),\n",
       " Text(0.6611226611226612, 0.041666666666666664, '\\n  (...)  \\n'),\n",
       " Text(0.6652806652806653, 0.041666666666666664, '\\n  (...)  \\n'),\n",
       " Text(0.7006237006237006, 0.375, 'X[1] <= 8.736\\nsquared_error = 0.0\\nsamples = 194\\nvalue = 0.116'),\n",
       " Text(0.683991683991684, 0.2916666666666667, 'X[0] <= 1.068\\nsquared_error = 0.0\\nsamples = 92\\nvalue = 0.126'),\n",
       " Text(0.6756756756756757, 0.20833333333333334, 'X[1] <= 8.218\\nsquared_error = 0.0\\nsamples = 69\\nvalue = 0.122'),\n",
       " Text(0.6715176715176715, 0.125, 'X[0] <= 0.955\\nsquared_error = 0.0\\nsamples = 43\\nvalue = 0.126'),\n",
       " Text(0.6694386694386695, 0.041666666666666664, '\\n  (...)  \\n'),\n",
       " Text(0.6735966735966736, 0.041666666666666664, '\\n  (...)  \\n'),\n",
       " Text(0.6798336798336798, 0.125, 'X[0] <= 0.985\\nsquared_error = 0.0\\nsamples = 26\\nvalue = 0.115'),\n",
       " Text(0.6777546777546778, 0.041666666666666664, '\\n  (...)  \\n'),\n",
       " Text(0.681912681912682, 0.041666666666666664, '\\n  (...)  \\n'),\n",
       " Text(0.6923076923076923, 0.20833333333333334, 'X[1] <= 8.247\\nsquared_error = 0.0\\nsamples = 23\\nvalue = 0.14'),\n",
       " Text(0.6881496881496881, 0.125, 'X[0] <= 1.12\\nsquared_error = 0.0\\nsamples = 15\\nvalue = 0.145'),\n",
       " Text(0.6860706860706861, 0.041666666666666664, '\\n  (...)  \\n'),\n",
       " Text(0.6902286902286903, 0.041666666666666664, '\\n  (...)  \\n'),\n",
       " Text(0.6964656964656964, 0.125, 'X[0] <= 1.14\\nsquared_error = 0.0\\nsamples = 8\\nvalue = 0.13'),\n",
       " Text(0.6943866943866944, 0.041666666666666664, '\\n  (...)  \\n'),\n",
       " Text(0.6985446985446986, 0.041666666666666664, '\\n  (...)  \\n'),\n",
       " Text(0.7172557172557172, 0.2916666666666667, 'X[0] <= 1.023\\nsquared_error = 0.0\\nsamples = 102\\nvalue = 0.107'),\n",
       " Text(0.7089397089397089, 0.20833333333333334, 'X[1] <= 9.428\\nsquared_error = 0.0\\nsamples = 68\\nvalue = 0.102'),\n",
       " Text(0.7047817047817048, 0.125, 'X[1] <= 9.08\\nsquared_error = 0.0\\nsamples = 35\\nvalue = 0.106'),\n",
       " Text(0.7027027027027027, 0.041666666666666664, '\\n  (...)  \\n'),\n",
       " Text(0.7068607068607069, 0.041666666666666664, '\\n  (...)  \\n'),\n",
       " Text(0.7130977130977131, 0.125, 'X[0] <= 0.975\\nsquared_error = 0.0\\nsamples = 33\\nvalue = 0.098'),\n",
       " Text(0.7110187110187111, 0.041666666666666664, '\\n  (...)  \\n'),\n",
       " Text(0.7151767151767152, 0.041666666666666664, '\\n  (...)  \\n'),\n",
       " Text(0.7255717255717256, 0.20833333333333334, 'X[1] <= 9.079\\nsquared_error = 0.0\\nsamples = 34\\nvalue = 0.116'),\n",
       " Text(0.7214137214137214, 0.125, 'X[0] <= 1.135\\nsquared_error = 0.0\\nsamples = 9\\nvalue = 0.125'),\n",
       " Text(0.7193347193347194, 0.041666666666666664, '\\n  (...)  \\n'),\n",
       " Text(0.7234927234927235, 0.041666666666666664, '\\n  (...)  \\n'),\n",
       " Text(0.7297297297297297, 0.125, 'X[0] <= 1.101\\nsquared_error = 0.0\\nsamples = 25\\nvalue = 0.113'),\n",
       " Text(0.7276507276507277, 0.041666666666666664, '\\n  (...)  \\n'),\n",
       " Text(0.7318087318087318, 0.041666666666666664, '\\n  (...)  \\n'),\n",
       " Text(0.8669438669438669, 0.5416666666666666, 'X[1] <= 19.888\\nsquared_error = 0.0\\nsamples = 2672\\nvalue = 0.041'),\n",
       " Text(0.8004158004158004, 0.4583333333333333, 'X[1] <= 13.726\\nsquared_error = 0.0\\nsamples = 668\\nvalue = 0.07'),\n",
       " Text(0.7671517671517671, 0.375, 'X[1] <= 11.643\\nsquared_error = 0.0\\nsamples = 245\\nvalue = 0.085'),\n",
       " Text(0.7505197505197505, 0.2916666666666667, 'X[0] <= 1.054\\nsquared_error = 0.0\\nsamples = 106\\nvalue = 0.092'),\n",
       " Text(0.7422037422037422, 0.20833333333333334, 'X[1] <= 10.886\\nsquared_error = 0.0\\nsamples = 81\\nvalue = 0.089'),\n",
       " Text(0.738045738045738, 0.125, 'X[0] <= 0.942\\nsquared_error = 0.0\\nsamples = 45\\nvalue = 0.092'),\n",
       " Text(0.735966735966736, 0.041666666666666664, '\\n  (...)  \\n'),\n",
       " Text(0.7401247401247402, 0.041666666666666664, '\\n  (...)  \\n'),\n",
       " Text(0.7463617463617463, 0.125, 'X[0] <= 0.956\\nsquared_error = 0.0\\nsamples = 36\\nvalue = 0.086'),\n",
       " Text(0.7442827442827443, 0.041666666666666664, '\\n  (...)  \\n'),\n",
       " Text(0.7484407484407485, 0.041666666666666664, '\\n  (...)  \\n'),\n",
       " Text(0.7588357588357588, 0.20833333333333334, 'X[1] <= 10.795\\nsquared_error = 0.0\\nsamples = 25\\nvalue = 0.103'),\n",
       " Text(0.7546777546777547, 0.125, 'X[0] <= 1.135\\nsquared_error = 0.0\\nsamples = 12\\nvalue = 0.107'),\n",
       " Text(0.7525987525987526, 0.041666666666666664, '\\n  (...)  \\n'),\n",
       " Text(0.7567567567567568, 0.041666666666666664, '\\n  (...)  \\n'),\n",
       " Text(0.762993762993763, 0.125, 'X[0] <= 1.135\\nsquared_error = 0.0\\nsamples = 13\\nvalue = 0.099'),\n",
       " Text(0.760914760914761, 0.041666666666666664, '\\n  (...)  \\n'),\n",
       " Text(0.7650727650727651, 0.041666666666666664, '\\n  (...)  \\n'),\n",
       " Text(0.7837837837837838, 0.2916666666666667, 'X[0] <= 1.044\\nsquared_error = 0.0\\nsamples = 139\\nvalue = 0.08'),\n",
       " Text(0.7754677754677755, 0.20833333333333334, 'X[1] <= 12.509\\nsquared_error = 0.0\\nsamples = 105\\nvalue = 0.077'),\n",
       " Text(0.7713097713097713, 0.125, 'X[0] <= 0.968\\nsquared_error = 0.0\\nsamples = 50\\nvalue = 0.08'),\n",
       " Text(0.7692307692307693, 0.041666666666666664, '\\n  (...)  \\n'),\n",
       " Text(0.7733887733887734, 0.041666666666666664, '\\n  (...)  \\n'),\n",
       " Text(0.7796257796257796, 0.125, 'X[0] <= 0.975\\nsquared_error = 0.0\\nsamples = 55\\nvalue = 0.074'),\n",
       " Text(0.7775467775467776, 0.041666666666666664, '\\n  (...)  \\n'),\n",
       " Text(0.7817047817047817, 0.041666666666666664, '\\n  (...)  \\n'),\n",
       " Text(0.7920997920997921, 0.20833333333333334, 'X[1] <= 12.659\\nsquared_error = 0.0\\nsamples = 34\\nvalue = 0.089'),\n",
       " Text(0.7879417879417879, 0.125, 'X[0] <= 1.123\\nsquared_error = 0.0\\nsamples = 20\\nvalue = 0.092'),\n",
       " Text(0.7858627858627859, 0.041666666666666664, '\\n  (...)  \\n'),\n",
       " Text(0.7900207900207901, 0.041666666666666664, '\\n  (...)  \\n'),\n",
       " Text(0.7962577962577962, 0.125, 'X[0] <= 1.153\\nsquared_error = 0.0\\nsamples = 14\\nvalue = 0.086'),\n",
       " Text(0.7941787941787942, 0.041666666666666664, '\\n  (...)  \\n'),\n",
       " Text(0.7983367983367984, 0.041666666666666664, '\\n  (...)  \\n'),\n",
       " Text(0.8336798336798337, 0.375, 'X[1] <= 16.503\\nsquared_error = 0.0\\nsamples = 423\\nvalue = 0.061'),\n",
       " Text(0.817047817047817, 0.2916666666666667, 'X[0] <= 1.044\\nsquared_error = 0.0\\nsamples = 192\\nvalue = 0.067'),\n",
       " Text(0.8087318087318087, 0.20833333333333334, 'X[1] <= 14.78\\nsquared_error = 0.0\\nsamples = 133\\nvalue = 0.065'),\n",
       " Text(0.8045738045738046, 0.125, 'X[0] <= 0.968\\nsquared_error = 0.0\\nsamples = 52\\nvalue = 0.068'),\n",
       " Text(0.8024948024948025, 0.041666666666666664, '\\n  (...)  \\n'),\n",
       " Text(0.8066528066528067, 0.041666666666666664, '\\n  (...)  \\n'),\n",
       " Text(0.8128898128898129, 0.125, 'X[1] <= 15.646\\nsquared_error = 0.0\\nsamples = 81\\nvalue = 0.063'),\n",
       " Text(0.8108108108108109, 0.041666666666666664, '\\n  (...)  \\n'),\n",
       " Text(0.814968814968815, 0.041666666666666664, '\\n  (...)  \\n'),\n",
       " Text(0.8253638253638254, 0.20833333333333334, 'X[1] <= 15.577\\nsquared_error = 0.0\\nsamples = 59\\nvalue = 0.073'),\n",
       " Text(0.8212058212058212, 0.125, 'X[0] <= 1.104\\nsquared_error = 0.0\\nsamples = 41\\nvalue = 0.075'),\n",
       " Text(0.8191268191268192, 0.041666666666666664, '\\n  (...)  \\n'),\n",
       " Text(0.8232848232848233, 0.041666666666666664, '\\n  (...)  \\n'),\n",
       " Text(0.8295218295218295, 0.125, 'X[0] <= 1.098\\nsquared_error = 0.0\\nsamples = 18\\nvalue = 0.068'),\n",
       " Text(0.8274428274428275, 0.041666666666666664, '\\n  (...)  \\n'),\n",
       " Text(0.8316008316008316, 0.041666666666666664, '\\n  (...)  \\n'),\n",
       " Text(0.8503118503118503, 0.2916666666666667, 'X[0] <= 1.023\\nsquared_error = 0.0\\nsamples = 231\\nvalue = 0.055'),\n",
       " Text(0.841995841995842, 0.20833333333333334, 'X[1] <= 18.148\\nsquared_error = 0.0\\nsamples = 170\\nvalue = 0.053'),\n",
       " Text(0.8378378378378378, 0.125, 'X[0] <= 0.98\\nsquared_error = 0.0\\nsamples = 89\\nvalue = 0.055'),\n",
       " Text(0.8357588357588358, 0.041666666666666664, '\\n  (...)  \\n'),\n",
       " Text(0.83991683991684, 0.041666666666666664, '\\n  (...)  \\n'),\n",
       " Text(0.8461538461538461, 0.125, 'X[0] <= 0.98\\nsquared_error = 0.0\\nsamples = 81\\nvalue = 0.051'),\n",
       " Text(0.8440748440748441, 0.041666666666666664, '\\n  (...)  \\n'),\n",
       " Text(0.8482328482328483, 0.041666666666666664, '\\n  (...)  \\n'),\n",
       " Text(0.8586278586278586, 0.20833333333333334, 'X[0] <= 1.123\\nsquared_error = 0.0\\nsamples = 61\\nvalue = 0.062'),\n",
       " Text(0.8544698544698545, 0.125, 'X[1] <= 17.337\\nsquared_error = 0.0\\nsamples = 36\\nvalue = 0.059'),\n",
       " Text(0.8523908523908524, 0.041666666666666664, '\\n  (...)  \\n'),\n",
       " Text(0.8565488565488566, 0.041666666666666664, '\\n  (...)  \\n'),\n",
       " Text(0.8627858627858628, 0.125, 'X[1] <= 17.668\\nsquared_error = 0.0\\nsamples = 25\\nvalue = 0.066'),\n",
       " Text(0.8607068607068608, 0.041666666666666664, '\\n  (...)  \\n'),\n",
       " Text(0.8648648648648649, 0.041666666666666664, '\\n  (...)  \\n'),\n",
       " Text(0.9334719334719335, 0.4583333333333333, 'X[1] <= 31.077\\nsquared_error = 0.0\\nsamples = 2004\\nvalue = 0.031'),\n",
       " Text(0.9002079002079002, 0.375, 'X[1] <= 25.447\\nsquared_error = 0.0\\nsamples = 753\\nvalue = 0.04'),\n",
       " Text(0.8835758835758836, 0.2916666666666667, 'X[1] <= 22.426\\nsquared_error = 0.0\\nsamples = 387\\nvalue = 0.044'),\n",
       " Text(0.8752598752598753, 0.20833333333333334, 'X[0] <= 1.021\\nsquared_error = 0.0\\nsamples = 177\\nvalue = 0.047'),\n",
       " Text(0.8711018711018711, 0.125, 'X[1] <= 21.084\\nsquared_error = 0.0\\nsamples = 130\\nvalue = 0.046'),\n",
       " Text(0.8690228690228691, 0.041666666666666664, '\\n  (...)  \\n'),\n",
       " Text(0.8731808731808732, 0.041666666666666664, '\\n  (...)  \\n'),\n",
       " Text(0.8794178794178794, 0.125, 'X[0] <= 1.123\\nsquared_error = 0.0\\nsamples = 47\\nvalue = 0.051'),\n",
       " Text(0.8773388773388774, 0.041666666666666664, '\\n  (...)  \\n'),\n",
       " Text(0.8814968814968815, 0.041666666666666664, '\\n  (...)  \\n'),\n",
       " Text(0.8918918918918919, 0.20833333333333334, 'X[0] <= 1.068\\nsquared_error = 0.0\\nsamples = 210\\nvalue = 0.042'),\n",
       " Text(0.8877338877338877, 0.125, 'X[0] <= 0.982\\nsquared_error = 0.0\\nsamples = 165\\nvalue = 0.041'),\n",
       " Text(0.8856548856548857, 0.041666666666666664, '\\n  (...)  \\n'),\n",
       " Text(0.8898128898128899, 0.041666666666666664, '\\n  (...)  \\n'),\n",
       " Text(0.896049896049896, 0.125, 'X[0] <= 1.167\\nsquared_error = 0.0\\nsamples = 45\\nvalue = 0.047'),\n",
       " Text(0.893970893970894, 0.041666666666666664, '\\n  (...)  \\n'),\n",
       " Text(0.8981288981288982, 0.041666666666666664, '\\n  (...)  \\n'),\n",
       " Text(0.9168399168399168, 0.2916666666666667, 'X[0] <= 1.044\\nsquared_error = 0.0\\nsamples = 366\\nvalue = 0.036'),\n",
       " Text(0.9085239085239085, 0.20833333333333334, 'X[1] <= 27.681\\nsquared_error = 0.0\\nsamples = 266\\nvalue = 0.034'),\n",
       " Text(0.9043659043659044, 0.125, 'X[0] <= 0.968\\nsquared_error = 0.0\\nsamples = 110\\nvalue = 0.037'),\n",
       " Text(0.9022869022869023, 0.041666666666666664, '\\n  (...)  \\n'),\n",
       " Text(0.9064449064449065, 0.041666666666666664, '\\n  (...)  \\n'),\n",
       " Text(0.9126819126819127, 0.125, 'X[0] <= 0.98\\nsquared_error = 0.0\\nsamples = 156\\nvalue = 0.033'),\n",
       " Text(0.9106029106029107, 0.041666666666666664, '\\n  (...)  \\n'),\n",
       " Text(0.9147609147609148, 0.041666666666666664, '\\n  (...)  \\n'),\n",
       " Text(0.9251559251559252, 0.20833333333333334, 'X[1] <= 28.394\\nsquared_error = 0.0\\nsamples = 100\\nvalue = 0.039'),\n",
       " Text(0.920997920997921, 0.125, 'X[0] <= 1.153\\nsquared_error = 0.0\\nsamples = 43\\nvalue = 0.042'),\n",
       " Text(0.918918918918919, 0.041666666666666664, '\\n  (...)  \\n'),\n",
       " Text(0.9230769230769231, 0.041666666666666664, '\\n  (...)  \\n'),\n",
       " Text(0.9293139293139293, 0.125, 'X[0] <= 1.153\\nsquared_error = 0.0\\nsamples = 57\\nvalue = 0.037'),\n",
       " Text(0.9272349272349273, 0.041666666666666664, '\\n  (...)  \\n'),\n",
       " Text(0.9313929313929314, 0.041666666666666664, '\\n  (...)  \\n'),\n",
       " Text(0.9667359667359667, 0.375, 'X[1] <= 38.417\\nsquared_error = 0.0\\nsamples = 1251\\nvalue = 0.025'),\n",
       " Text(0.9501039501039501, 0.2916666666666667, 'X[0] <= 1.044\\nsquared_error = 0.0\\nsamples = 464\\nvalue = 0.029'),\n",
       " Text(0.9417879417879418, 0.20833333333333334, 'X[1] <= 33.653\\nsquared_error = 0.0\\nsamples = 342\\nvalue = 0.028'),\n",
       " Text(0.9376299376299376, 0.125, 'X[0] <= 0.99\\nsquared_error = 0.0\\nsamples = 132\\nvalue = 0.03'),\n",
       " Text(0.9355509355509356, 0.041666666666666664, '\\n  (...)  \\n'),\n",
       " Text(0.9397089397089398, 0.041666666666666664, '\\n  (...)  \\n'),\n",
       " Text(0.9459459459459459, 0.125, 'X[1] <= 35.818\\nsquared_error = 0.0\\nsamples = 210\\nvalue = 0.027'),\n",
       " Text(0.9438669438669439, 0.041666666666666664, '\\n  (...)  \\n'),\n",
       " Text(0.9480249480249481, 0.041666666666666664, '\\n  (...)  \\n'),\n",
       " Text(0.9584199584199584, 0.20833333333333334, 'X[1] <= 34.539\\nsquared_error = 0.0\\nsamples = 122\\nvalue = 0.032'),\n",
       " Text(0.9542619542619543, 0.125, 'X[0] <= 1.123\\nsquared_error = 0.0\\nsamples = 52\\nvalue = 0.034'),\n",
       " Text(0.9521829521829522, 0.041666666666666664, '\\n  (...)  \\n'),\n",
       " Text(0.9563409563409564, 0.041666666666666664, '\\n  (...)  \\n'),\n",
       " Text(0.9625779625779626, 0.125, 'X[0] <= 1.123\\nsquared_error = 0.0\\nsamples = 70\\nvalue = 0.03'),\n",
       " Text(0.9604989604989606, 0.041666666666666664, '\\n  (...)  \\n'),\n",
       " Text(0.9646569646569647, 0.041666666666666664, '\\n  (...)  \\n'),\n",
       " Text(0.9833679833679834, 0.2916666666666667, 'X[0] <= 1.068\\nsquared_error = 0.0\\nsamples = 787\\nvalue = 0.023'),\n",
       " Text(0.975051975051975, 0.20833333333333334, 'X[1] <= 43.8\\nsquared_error = 0.0\\nsamples = 632\\nvalue = 0.022'),\n",
       " Text(0.9708939708939709, 0.125, 'X[1] <= 41.185\\nsquared_error = 0.0\\nsamples = 300\\nvalue = 0.024'),\n",
       " Text(0.9688149688149689, 0.041666666666666664, '\\n  (...)  \\n'),\n",
       " Text(0.972972972972973, 0.041666666666666664, '\\n  (...)  \\n'),\n",
       " Text(0.9792099792099792, 0.125, 'X[1] <= 46.761\\nsquared_error = 0.0\\nsamples = 332\\nvalue = 0.021'),\n",
       " Text(0.9771309771309772, 0.041666666666666664, '\\n  (...)  \\n'),\n",
       " Text(0.9812889812889813, 0.041666666666666664, '\\n  (...)  \\n'),\n",
       " Text(0.9916839916839917, 0.20833333333333334, 'X[1] <= 44.653\\nsquared_error = 0.0\\nsamples = 155\\nvalue = 0.026'),\n",
       " Text(0.9875259875259875, 0.125, 'X[1] <= 40.804\\nsquared_error = 0.0\\nsamples = 86\\nvalue = 0.027'),\n",
       " Text(0.9854469854469855, 0.041666666666666664, '\\n  (...)  \\n'),\n",
       " Text(0.9896049896049897, 0.041666666666666664, '\\n  (...)  \\n'),\n",
       " Text(0.9958419958419958, 0.125, 'X[1] <= 47.0\\nsquared_error = 0.0\\nsamples = 69\\nvalue = 0.024'),\n",
       " Text(0.9937629937629938, 0.041666666666666664, '\\n  (...)  \\n'),\n",
       " Text(0.997920997920998, 0.041666666666666664, '\\n  (...)  \\n')]"
      ]
     },
     "execution_count": 61,
     "metadata": {},
     "output_type": "execute_result"
    },
    {
     "data": {
      "image/png": "[encoded data removed]",
      "text/plain": [
       "<Figure size 1080x720 with 1 Axes>"
      ]
     },
     "metadata": {
      "needs_background": "light"
     },
     "output_type": "display_data"
    }
   ],
   "source": [
    "from sklearn import tree\n",
    "import matplotlib.pyplot as plt\n",
    "plt.figure(figsize=(15,10))\n",
    "tree.plot_tree(regressor,filled='true',max_depth=10)"
   ]
  },
  {
   "cell_type": "code",
   "execution_count": 64,
   "metadata": {},
   "outputs": [
    {
     "data": {
      "text/plain": [
       "0.031178211338331898"
      ]
     },
     "execution_count": 64,
     "metadata": {},
     "output_type": "execute_result"
    }
   ],
   "source": [
    "mean_squared_error(y_test, y_pred_dt)"
   ]
  },
  {
   "cell_type": "code",
   "execution_count": 65,
   "metadata": {},
   "outputs": [],
   "source": [
    "from sklearn.ensemble import RandomForestRegressor\n",
    "rf_regressor = RandomForestRegressor()"
   ]
  },
  {
   "cell_type": "code",
   "execution_count": 66,
   "metadata": {},
   "outputs": [
    {
     "data": {
      "text/html": [
       "<style>#sk-container-id-11 {color: black;background-color: white;}#sk-container-id-11 pre{padding: 0;}#sk-container-id-11 div.sk-toggleable {background-color: white;}#sk-container-id-11 label.sk-toggleable__label {cursor: pointer;display: block;width: 100%;margin-bottom: 0;padding: 0.3em;box-sizing: border-box;text-align: center;}#sk-container-id-11 label.sk-toggleable__label-arrow:before {content: \"▸\";float: left;margin-right: 0.25em;color: #696969;}#sk-container-id-11 label.sk-toggleable__label-arrow:hover:before {color: black;}#sk-container-id-11 div.sk-estimator:hover label.sk-toggleable__label-arrow:before {color: black;}#sk-container-id-11 div.sk-toggleable__content {max-height: 0;max-width: 0;overflow: hidden;text-align: left;background-color: #f0f8ff;}#sk-container-id-11 div.sk-toggleable__content pre {margin: 0.2em;color: black;border-radius: 0.25em;background-color: #f0f8ff;}#sk-container-id-11 input.sk-toggleable__control:checked~div.sk-toggleable__content {max-height: 200px;max-width: 100%;overflow: auto;}#sk-container-id-11 input.sk-toggleable__control:checked~label.sk-toggleable__label-arrow:before {content: \"▾\";}#sk-container-id-11 div.sk-estimator input.sk-toggleable__control:checked~label.sk-toggleable__label {background-color: #d4ebff;}#sk-container-id-11 div.sk-label input.sk-toggleable__control:checked~label.sk-toggleable__label {background-color: #d4ebff;}#sk-container-id-11 input.sk-hidden--visually {border: 0;clip: rect(1px 1px 1px 1px);clip: rect(1px, 1px, 1px, 1px);height: 1px;margin: -1px;overflow: hidden;padding: 0;position: absolute;width: 1px;}#sk-container-id-11 div.sk-estimator {font-family: monospace;background-color: #f0f8ff;border: 1px dotted black;border-radius: 0.25em;box-sizing: border-box;margin-bottom: 0.5em;}#sk-container-id-11 div.sk-estimator:hover {background-color: #d4ebff;}#sk-container-id-11 div.sk-parallel-item::after {content: \"\";width: 100%;border-bottom: 1px solid gray;flex-grow: 1;}#sk-container-id-11 div.sk-label:hover label.sk-toggleable__label {background-color: #d4ebff;}#sk-container-id-11 div.sk-serial::before {content: \"\";position: absolute;border-left: 1px solid gray;box-sizing: border-box;top: 0;bottom: 0;left: 50%;z-index: 0;}#sk-container-id-11 div.sk-serial {display: flex;flex-direction: column;align-items: center;background-color: white;padding-right: 0.2em;padding-left: 0.2em;position: relative;}#sk-container-id-11 div.sk-item {position: relative;z-index: 1;}#sk-container-id-11 div.sk-parallel {display: flex;align-items: stretch;justify-content: center;background-color: white;position: relative;}#sk-container-id-11 div.sk-item::before, #sk-container-id-11 div.sk-parallel-item::before {content: \"\";position: absolute;border-left: 1px solid gray;box-sizing: border-box;top: 0;bottom: 0;left: 50%;z-index: -1;}#sk-container-id-11 div.sk-parallel-item {display: flex;flex-direction: column;z-index: 1;position: relative;background-color: white;}#sk-container-id-11 div.sk-parallel-item:first-child::after {align-self: flex-end;width: 50%;}#sk-container-id-11 div.sk-parallel-item:last-child::after {align-self: flex-start;width: 50%;}#sk-container-id-11 div.sk-parallel-item:only-child::after {width: 0;}#sk-container-id-11 div.sk-dashed-wrapped {border: 1px dashed gray;margin: 0 0.4em 0.5em 0.4em;box-sizing: border-box;padding-bottom: 0.4em;background-color: white;}#sk-container-id-11 div.sk-label label {font-family: monospace;font-weight: bold;display: inline-block;line-height: 1.2em;}#sk-container-id-11 div.sk-label-container {text-align: center;}#sk-container-id-11 div.sk-container {/* jupyter's `normalize.less` sets `[hidden] { display: none; }` but bootstrap.min.css set `[hidden] { display: none !important; }` so we also need the `!important` here to be able to override the default hidden behavior on the sphinx rendered scikit-learn.org. See: https://github.com/scikit-learn/scikit-learn/issues/21755 */display: inline-block !important;position: relative;}#sk-container-id-11 div.sk-text-repr-fallback {display: none;}</style><div id=\"sk-container-id-11\" class=\"sk-top-container\"><div class=\"sk-text-repr-fallback\"><pre>RandomForestRegressor()</pre><b>In a Jupyter environment, please rerun this cell to show the HTML representation or trust the notebook. <br />On GitHub, the HTML representation is unable to render, please try loading this page with nbviewer.org.</b></div><div class=\"sk-container\" hidden><div class=\"sk-item\"><div class=\"sk-estimator sk-toggleable\"><input class=\"sk-toggleable__control sk-hidden--visually\" id=\"sk-estimator-id-11\" type=\"checkbox\" checked><label for=\"sk-estimator-id-11\" class=\"sk-toggleable__label sk-toggleable__label-arrow\">RandomForestRegressor</label><div class=\"sk-toggleable__content\"><pre>RandomForestRegressor()</pre></div></div></div></div></div>"
      ],
      "text/plain": [
       "RandomForestRegressor()"
      ]
     },
     "execution_count": 66,
     "metadata": {},
     "output_type": "execute_result"
    }
   ],
   "source": [
    "rf_regressor.fit(x_train,y_train)"
   ]
  },
  {
   "cell_type": "code",
   "execution_count": 67,
   "metadata": {},
   "outputs": [],
   "source": [
    "y_pred_rf = rf_regressor.predict(x_test)"
   ]
  },
  {
   "cell_type": "code",
   "execution_count": 68,
   "metadata": {},
   "outputs": [
    {
     "data": {
      "text/plain": [
       "0.9883013114495829"
      ]
     },
     "execution_count": 68,
     "metadata": {},
     "output_type": "execute_result"
    }
   ],
   "source": [
    "r2_score(y_test,y_pred_rf)"
   ]
  },
  {
   "cell_type": "code",
   "execution_count": 69,
   "metadata": {},
   "outputs": [
    {
     "data": {
      "text/plain": [
       "0.02417421518236154"
      ]
     },
     "execution_count": 69,
     "metadata": {},
     "output_type": "execute_result"
    }
   ],
   "source": [
    "mean_squared_error(y_test, y_pred_rf)"
   ]
  },
  {
   "cell_type": "code",
   "execution_count": null,
   "metadata": {},
   "outputs": [],
   "source": []
  }
 ],
 "metadata": {
  "kernelspec": {
   "display_name": "Python 3",
   "language": "python",
   "name": "python3"
  },
  "language_info": {
   "codemirror_mode": {
    "name": "ipython",
    "version": 3
   },
   "file_extension": ".py",
   "mimetype": "text/x-python",
   "name": "python",
   "nbconvert_exporter": "python",
   "pygments_lexer": "ipython3",
   "version": "3.8.5"
  }
 },
 "nbformat": 4,
 "nbformat_minor": 4
}
